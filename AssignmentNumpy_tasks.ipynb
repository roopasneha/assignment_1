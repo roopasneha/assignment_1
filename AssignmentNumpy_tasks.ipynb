{
  "cells": [
    {
      "cell_type": "markdown",
      "metadata": {
        "id": "view-in-github",
        "colab_type": "text"
      },
      "source": [
        "<a href=\"https://colab.research.google.com/github/roopasneha/assignment_1/blob/main/AssignmentNumpy_tasks.ipynb\" target=\"_parent\"><img src=\"https://colab.research.google.com/assets/colab-badge.svg\" alt=\"Open In Colab\"/></a>"
      ]
    },
    {
      "cell_type": "markdown",
      "metadata": {
        "id": "LgeFrGsxfSMb"
      },
      "source": [
        "# Numpy\n",
        "\n"
      ]
    },
    {
      "cell_type": "markdown",
      "metadata": {
        "id": "paM4vAWvfSMj"
      },
      "source": [
        "#### 1. Import the numpy package under the name `np` (★☆☆) \n",
        "(**hint**: import … as …)"
      ]
    },
    {
      "cell_type": "code",
      "execution_count": 1,
      "metadata": {
        "collapsed": true,
        "id": "KTavB2AsfSMl"
      },
      "outputs": [],
      "source": [
        "import numpy as np"
      ]
    },
    {
      "cell_type": "markdown",
      "metadata": {
        "id": "L1Pj3A9sfSMm"
      },
      "source": [
        "#### 2. Print the numpy version and the configuration (★☆☆) \n",
        "(**hint**: np.\\_\\_version\\_\\_, np.show\\_config)"
      ]
    },
    {
      "cell_type": "code",
      "execution_count": 2,
      "metadata": {
        "colab": {
          "base_uri": "https://localhost:8080/"
        },
        "id": "nc5YVgmmfSMo",
        "outputId": "6ce1088b-5639-461f-b079-998d6ee7cf2c"
      },
      "outputs": [
        {
          "output_type": "stream",
          "name": "stdout",
          "text": [
            "1.21.5\n",
            "blas_mkl_info:\n",
            "  NOT AVAILABLE\n",
            "blis_info:\n",
            "  NOT AVAILABLE\n",
            "openblas_info:\n",
            "    libraries = ['openblas', 'openblas']\n",
            "    library_dirs = ['/usr/local/lib']\n",
            "    language = c\n",
            "    define_macros = [('HAVE_CBLAS', None)]\n",
            "    runtime_library_dirs = ['/usr/local/lib']\n",
            "blas_opt_info:\n",
            "    libraries = ['openblas', 'openblas']\n",
            "    library_dirs = ['/usr/local/lib']\n",
            "    language = c\n",
            "    define_macros = [('HAVE_CBLAS', None)]\n",
            "    runtime_library_dirs = ['/usr/local/lib']\n",
            "lapack_mkl_info:\n",
            "  NOT AVAILABLE\n",
            "openblas_lapack_info:\n",
            "    libraries = ['openblas', 'openblas']\n",
            "    library_dirs = ['/usr/local/lib']\n",
            "    language = c\n",
            "    define_macros = [('HAVE_CBLAS', None)]\n",
            "    runtime_library_dirs = ['/usr/local/lib']\n",
            "lapack_opt_info:\n",
            "    libraries = ['openblas', 'openblas']\n",
            "    library_dirs = ['/usr/local/lib']\n",
            "    language = c\n",
            "    define_macros = [('HAVE_CBLAS', None)]\n",
            "    runtime_library_dirs = ['/usr/local/lib']\n",
            "Supported SIMD extensions in this NumPy install:\n",
            "    baseline = SSE,SSE2,SSE3\n",
            "    found = SSSE3,SSE41,POPCNT,SSE42,AVX,F16C,FMA3,AVX2\n",
            "    not found = AVX512F,AVX512CD,AVX512_KNL,AVX512_KNM,AVX512_SKX,AVX512_CLX,AVX512_CNL,AVX512_ICL\n",
            "None\n"
          ]
        }
      ],
      "source": [
        "print(np.__version__)\n",
        "print(np.show_config())"
      ]
    },
    {
      "cell_type": "markdown",
      "metadata": {
        "id": "ra6RE7hAfSMp"
      },
      "source": [
        "#### 3. Create a null vector of size 10 (★☆☆) \n",
        "(**hint**: np.zeros)"
      ]
    },
    {
      "cell_type": "code",
      "execution_count": 24,
      "metadata": {
        "colab": {
          "base_uri": "https://localhost:8080/"
        },
        "id": "85sAZQ-QfSMq",
        "outputId": "efaa1ecd-0235-4fc7-f3de-e210405be2d0"
      },
      "outputs": [
        {
          "output_type": "stream",
          "name": "stdout",
          "text": [
            "[0. 0. 0. ... 0. 0. 0.]\n"
          ]
        }
      ],
      "source": [
        "x=np.zeros(10)\n",
        "print(x)"
      ]
    },
    {
      "cell_type": "markdown",
      "metadata": {
        "id": "9jtaKk7KfSMs"
      },
      "source": [
        "#### 4.  How to find the memory size of any array (★☆☆) \n",
        "(**hint**: size, itemsize)"
      ]
    },
    {
      "cell_type": "code",
      "execution_count": 25,
      "metadata": {
        "colab": {
          "base_uri": "https://localhost:8080/"
        },
        "id": "IpczkwkwfSMu",
        "outputId": "68db691c-5065-41c3-b6f5-1eb8600d8791"
      },
      "outputs": [
        {
          "output_type": "stream",
          "name": "stdout",
          "text": [
            "16\n"
          ]
        }
      ],
      "source": [
        "x=np.array([4,4])\n",
        "\n",
        "print(x.size*x.itemsize)"
      ]
    },
    {
      "cell_type": "markdown",
      "metadata": {
        "id": "lVIomY4BfSMv"
      },
      "source": [
        "#### 5.  How to get the documentation of the numpy add function from the command line? (★☆☆) \n",
        "(**hint**: np.info)"
      ]
    },
    {
      "cell_type": "code",
      "execution_count": 26,
      "metadata": {
        "colab": {
          "base_uri": "https://localhost:8080/"
        },
        "collapsed": true,
        "id": "-zckCMOrfSMw",
        "outputId": "c7762afc-b5cd-4039-f77e-8bd698bed46e"
      },
      "outputs": [
        {
          "output_type": "stream",
          "name": "stdout",
          "text": [
            "add(x1, x2, /, out=None, *, where=True, casting='same_kind', order='K', dtype=None, subok=True[, signature, extobj])\n",
            "\n",
            "Add arguments element-wise.\n",
            "\n",
            "Parameters\n",
            "----------\n",
            "x1, x2 : array_like\n",
            "    The arrays to be added.\n",
            "    If ``x1.shape != x2.shape``, they must be broadcastable to a common\n",
            "    shape (which becomes the shape of the output).\n",
            "out : ndarray, None, or tuple of ndarray and None, optional\n",
            "    A location into which the result is stored. If provided, it must have\n",
            "    a shape that the inputs broadcast to. If not provided or None,\n",
            "    a freshly-allocated array is returned. A tuple (possible only as a\n",
            "    keyword argument) must have length equal to the number of outputs.\n",
            "where : array_like, optional\n",
            "    This condition is broadcast over the input. At locations where the\n",
            "    condition is True, the `out` array will be set to the ufunc result.\n",
            "    Elsewhere, the `out` array will retain its original value.\n",
            "    Note that if an uninitialized `out` array is created via the default\n",
            "    ``out=None``, locations within it where the condition is False will\n",
            "    remain uninitialized.\n",
            "**kwargs\n",
            "    For other keyword-only arguments, see the\n",
            "    :ref:`ufunc docs <ufuncs.kwargs>`.\n",
            "\n",
            "Returns\n",
            "-------\n",
            "add : ndarray or scalar\n",
            "    The sum of `x1` and `x2`, element-wise.\n",
            "    This is a scalar if both `x1` and `x2` are scalars.\n",
            "\n",
            "Notes\n",
            "-----\n",
            "Equivalent to `x1` + `x2` in terms of array broadcasting.\n",
            "\n",
            "Examples\n",
            "--------\n",
            ">>> np.add(1.0, 4.0)\n",
            "5.0\n",
            ">>> x1 = np.arange(9.0).reshape((3, 3))\n",
            ">>> x2 = np.arange(3.0)\n",
            ">>> np.add(x1, x2)\n",
            "array([[  0.,   2.,   4.],\n",
            "       [  3.,   5.,   7.],\n",
            "       [  6.,   8.,  10.]])\n",
            "\n",
            "The ``+`` operator can be used as a shorthand for ``np.add`` on ndarrays.\n",
            "\n",
            ">>> x1 = np.arange(9.0).reshape((3, 3))\n",
            ">>> x2 = np.arange(3.0)\n",
            ">>> x1 + x2\n",
            "array([[ 0.,  2.,  4.],\n",
            "       [ 3.,  5.,  7.],\n",
            "       [ 6.,  8., 10.]])\n",
            "None\n"
          ]
        }
      ],
      "source": [
        "print(np.info(np.add))"
      ]
    },
    {
      "cell_type": "markdown",
      "metadata": {
        "id": "fv1jIo0AfSMw"
      },
      "source": [
        "#### 6.  Create a null vector of size 10 but the fifth value which is 1 (★☆☆) \n",
        "(**hint**: array\\[4\\])"
      ]
    },
    {
      "cell_type": "code",
      "execution_count": 27,
      "metadata": {
        "colab": {
          "base_uri": "https://localhost:8080/"
        },
        "id": "X4UH0mNxfSMx",
        "outputId": "cbe3e452-b067-47bd-e858-02075497a73a"
      },
      "outputs": [
        {
          "output_type": "stream",
          "name": "stdout",
          "text": [
            "[0. 0. 0. ... 0. 0. 0.]\n"
          ]
        }
      ],
      "source": [
        "x=np.zeros(10)\n",
        "x[4]=1\n",
        "print(x)"
      ]
    },
    {
      "cell_type": "markdown",
      "metadata": {
        "id": "TfhUJImpfSMy"
      },
      "source": [
        "#### 7.  Create a vector with values ranging from 10 to 49 (★☆☆) \n",
        "(**hint**: np.arange)"
      ]
    },
    {
      "cell_type": "code",
      "execution_count": 28,
      "metadata": {
        "colab": {
          "base_uri": "https://localhost:8080/"
        },
        "id": "nYTPy2MKfSMz",
        "outputId": "ebed1fe1-f3ef-4851-b2a4-29bbe4bd568c"
      },
      "outputs": [
        {
          "output_type": "stream",
          "name": "stdout",
          "text": [
            "[10 11 12 ... 46 47 48]\n"
          ]
        }
      ],
      "source": [
        "x=np.arange(10,49)\n",
        "print(x)"
      ]
    },
    {
      "cell_type": "markdown",
      "metadata": {
        "id": "bEwah_0ufSMz"
      },
      "source": [
        "#### 8.  Reverse a vector (first element becomes last) (★☆☆) \n",
        "(**hint**: array\\[::-1\\])"
      ]
    },
    {
      "cell_type": "code",
      "execution_count": 30,
      "metadata": {
        "colab": {
          "base_uri": "https://localhost:8080/"
        },
        "id": "mjRleQ-mfSM0",
        "outputId": "c686ce7c-2458-4009-8dd8-4dad3fc6c532"
      },
      "outputs": [
        {
          "output_type": "stream",
          "name": "stdout",
          "text": [
            "[48 47 46 ... 12 11 10]\n"
          ]
        }
      ],
      "source": [
        "x=np.arange(10,49)\n",
        "x=x[::-1]\n",
        "print(x)"
      ]
    },
    {
      "cell_type": "markdown",
      "metadata": {
        "id": "WW309vxafSM0"
      },
      "source": [
        "#### 9.  Create a 3x3 matrix with values ranging from 0 to 8 (★☆☆) \n",
        "(**hint**: reshape)"
      ]
    },
    {
      "cell_type": "code",
      "execution_count": 31,
      "metadata": {
        "colab": {
          "base_uri": "https://localhost:8080/"
        },
        "id": "xW4L8MgxfSM1",
        "outputId": "63af4c38-8ad0-470a-a4c4-d56f72bf7a16"
      },
      "outputs": [
        {
          "output_type": "stream",
          "name": "stdout",
          "text": [
            "[[0 1 2]\n",
            " [3 4 5]\n",
            " [6 7 8]]\n"
          ]
        }
      ],
      "source": [
        "x=np.arange(9).reshape(3,3)\n",
        "print(x)"
      ]
    },
    {
      "cell_type": "markdown",
      "metadata": {
        "id": "ef4u6DTrfSM1"
      },
      "source": [
        "#### 10. Find indices of non-zero elements from \\[1,2,0,0,4,0\\] (★☆☆) \n",
        "(**hint**: np.nonzero)"
      ]
    },
    {
      "cell_type": "code",
      "execution_count": 32,
      "metadata": {
        "colab": {
          "base_uri": "https://localhost:8080/"
        },
        "id": "zqxckf5dfSM2",
        "outputId": "39488c0b-18d8-4249-c1ca-64754dae4ac4"
      },
      "outputs": [
        {
          "output_type": "execute_result",
          "data": {
            "text/plain": [
              "array([2, 3, 5])"
            ]
          },
          "metadata": {},
          "execution_count": 32
        }
      ],
      "source": [
        "x=np.array([1,2,0,0,4,0])\n",
        "np.nonzero(x==0)[0] "
      ]
    },
    {
      "cell_type": "markdown",
      "metadata": {
        "id": "x2yOBnkYfSM3"
      },
      "source": [
        "#### 11. Create a 3x3 identity matrix (★☆☆) \n",
        "(**hint**: np.eye)"
      ]
    },
    {
      "cell_type": "code",
      "execution_count": 33,
      "metadata": {
        "colab": {
          "base_uri": "https://localhost:8080/"
        },
        "id": "0cia8c0kfSM3",
        "outputId": "95ec497f-6e09-4701-f28e-686ca2567d3d"
      },
      "outputs": [
        {
          "output_type": "stream",
          "name": "stdout",
          "text": [
            "[[1. 0. 0.]\n",
            " [0. 1. 0.]\n",
            " [0. 0. 1.]]\n"
          ]
        }
      ],
      "source": [
        "array2D=np.eye(3)\n",
        "\n",
        "print(array2D)"
      ]
    },
    {
      "cell_type": "markdown",
      "metadata": {
        "id": "cgb9Irr7fSM4"
      },
      "source": [
        "#### 12. Create a 3x3x3 array with random values (★☆☆) \n",
        "(**hint**: np.random.random)"
      ]
    },
    {
      "cell_type": "code",
      "execution_count": 34,
      "metadata": {
        "colab": {
          "base_uri": "https://localhost:8080/"
        },
        "collapsed": true,
        "id": "8JYwgtALfSM5",
        "outputId": "6921c496-0626-4055-b9ee-5f8f14f8b3fe"
      },
      "outputs": [
        {
          "output_type": "stream",
          "name": "stdout",
          "text": [
            "[[[0.85939535 0.32197511 0.89069234]\n",
            "  [0.9572857  0.14509146 0.19792175]\n",
            "  [0.60179111 0.52001892 0.66184304]]\n",
            "\n",
            " [[0.1428937  0.68821063 0.87084032]\n",
            "  [0.18339815 0.10661131 0.65150244]\n",
            "  [0.08197124 0.31858273 0.39710733]]\n",
            "\n",
            " [[0.77258208 0.33063974 0.22152182]\n",
            "  [0.48319721 0.28548046 0.14041088]\n",
            "  [0.885367   0.13190754 0.29369201]]]\n"
          ]
        }
      ],
      "source": [
        "array=np.random.random((3,3,3))\n",
        "\n",
        "print(array)"
      ]
    },
    {
      "cell_type": "markdown",
      "metadata": {
        "id": "qJJo42pifSM6"
      },
      "source": [
        "#### 13. Create a 10x10 array with random values and find the minimum and maximum values (★☆☆) \n",
        "(**hint**: min, max)"
      ]
    },
    {
      "cell_type": "code",
      "execution_count": 35,
      "metadata": {
        "colab": {
          "base_uri": "https://localhost:8080/"
        },
        "id": "zN0AbVZMfSM6",
        "outputId": "163ff70a-1912-4818-aebf-f2ffb4e16902"
      },
      "outputs": [
        {
          "output_type": "stream",
          "name": "stdout",
          "text": [
            "0.002000598437422285\n",
            "0.9861370501043033\n"
          ]
        }
      ],
      "source": [
        "x=np.random.random((10,10))\n",
        "print(np.min(x))\n",
        "print(np.max(x))"
      ]
    },
    {
      "cell_type": "markdown",
      "metadata": {
        "id": "2HeI_61UfSM7"
      },
      "source": [
        "#### 14. Create a random vector of size 30 and find the mean value (★☆☆) \n",
        "(**hint**: mean)"
      ]
    },
    {
      "cell_type": "code",
      "execution_count": 36,
      "metadata": {
        "colab": {
          "base_uri": "https://localhost:8080/"
        },
        "id": "34-EJtvQfSM7",
        "outputId": "924ce501-ccad-4840-9733-a63fff1fd39c"
      },
      "outputs": [
        {
          "output_type": "execute_result",
          "data": {
            "text/plain": [
              "0.4846183786503161"
            ]
          },
          "metadata": {},
          "execution_count": 36
        }
      ],
      "source": [
        "x=np.random.random((5,6))\n",
        "np.mean(x)"
      ]
    },
    {
      "cell_type": "markdown",
      "metadata": {
        "id": "zcNmHffrfSM8"
      },
      "source": [
        "#### 15. Create a 2d array with 1 on the border and 0 inside (★☆☆) \n",
        "(**hint**: array\\[1:-1, 1:-1\\])"
      ]
    },
    {
      "cell_type": "code",
      "execution_count": 37,
      "metadata": {
        "id": "pjoy3JC3fSM8",
        "colab": {
          "base_uri": "https://localhost:8080/"
        },
        "outputId": "7f632cc7-f791-4bf2-ed66-d5265dd73361"
      },
      "outputs": [
        {
          "output_type": "stream",
          "name": "stdout",
          "text": [
            "[[1. 1. 1. 1. 1. 1.]\n",
            " [1. 0. 0. 0. 0. 1.]\n",
            " [1. 0. 0. 0. 0. 1.]\n",
            " [1. 0. 0. 0. 0. 1.]\n",
            " [1. 0. 0. 0. 0. 1.]\n",
            " [1. 1. 1. 1. 1. 1.]]\n"
          ]
        }
      ],
      "source": [
        "x=np.ones((6,6))\n",
        "x[1:-1,1:-1]=0\n",
        "print(x)"
      ]
    },
    {
      "cell_type": "markdown",
      "metadata": {
        "id": "fHSbPa-NfSM8"
      },
      "source": [
        "#### 16. How to add a border (filled with 0's) around an existing array? (★☆☆) \n",
        "(**hint**: np.pad)"
      ]
    },
    {
      "cell_type": "code",
      "execution_count": 38,
      "metadata": {
        "id": "k8n2FsDzfSM9",
        "colab": {
          "base_uri": "https://localhost:8080/"
        },
        "outputId": "dd8a891d-23ac-4427-9f5c-b117a73827f6"
      },
      "outputs": [
        {
          "output_type": "stream",
          "name": "stdout",
          "text": [
            "[[0. 0. 0. ... 0. 0. 0.]\n",
            " [0. 1. 1. ... 1. 1. 0.]\n",
            " [0. 1. 1. ... 1. 1. 0.]\n",
            " ...\n",
            " [0. 1. 1. ... 1. 1. 0.]\n",
            " [0. 1. 1. ... 1. 1. 0.]\n",
            " [0. 0. 0. ... 0. 0. 0.]]\n"
          ]
        }
      ],
      "source": [
        "x=np.ones((5,5))\n",
        "x=np.pad(x,pad_width=1,mode='constant',constant_values=0)\n",
        "print(x)"
      ]
    },
    {
      "cell_type": "markdown",
      "metadata": {
        "id": "xeSiWiX-fSM9"
      },
      "source": [
        "#### 17. What is the result of the following expression? (★☆☆) \n",
        "(**hint**: NaN = not a number, inf = infinity)"
      ]
    },
    {
      "cell_type": "markdown",
      "source": [
        "```python\n",
        "0 * np.nan\n",
        "np.nan == np.nan\n",
        "np.inf > np.nan\n",
        "np.nan - np.nan\n",
        "0.3 == 3 * 0.1\n",
        "```"
      ],
      "metadata": {
        "id": "JwoX3tjvj4w3"
      }
    },
    {
      "cell_type": "code",
      "execution_count": 39,
      "metadata": {
        "id": "orvok7kNfSM-",
        "colab": {
          "base_uri": "https://localhost:8080/"
        },
        "outputId": "f0872243-8b6c-425b-ac16-128e803bef12"
      },
      "outputs": [
        {
          "output_type": "stream",
          "name": "stdout",
          "text": [
            "nan\n",
            "False\n",
            "False\n",
            "nan\n",
            "False\n"
          ]
        }
      ],
      "source": [
        "print(0*np.nan)\n",
        "print(np.nan==np.nan)\n",
        "print(np.inf>np.nan)\n",
        "print(np.nan-np.nan)\n",
        "print(0.3==3*0.1)"
      ]
    },
    {
      "cell_type": "markdown",
      "metadata": {
        "id": "y3GWcUm8fSM_"
      },
      "source": [
        "#### 18. Create a 5x5 matrix with values 1,2,3,4 just below the diagonal (★☆☆) \n",
        "(**hint**: np.diag)"
      ]
    },
    {
      "cell_type": "code",
      "execution_count": 40,
      "metadata": {
        "id": "aLwNX1IJfSM_",
        "colab": {
          "base_uri": "https://localhost:8080/"
        },
        "outputId": "596f7839-68ce-4925-8ebf-0a8f45caea64"
      },
      "outputs": [
        {
          "output_type": "stream",
          "name": "stdout",
          "text": [
            "[[0 0 0 0 0]\n",
            " [1 0 0 0 0]\n",
            " [0 2 0 0 0]\n",
            " [0 0 3 0 0]\n",
            " [0 0 0 4 0]]\n"
          ]
        }
      ],
      "source": [
        "x=np.diag(1+np.arange(4),k=-1)\n",
        "print(x)"
      ]
    },
    {
      "cell_type": "markdown",
      "metadata": {
        "id": "n1M1W283fSM_"
      },
      "source": [
        "#### 19. Create a 8x8 matrix and fill it with a checkerboard pattern (★☆☆) \n",
        "(**hint**: array\\[::2\\])"
      ]
    },
    {
      "cell_type": "code",
      "execution_count": 41,
      "metadata": {
        "id": "Hcue6rq4fSNA",
        "colab": {
          "base_uri": "https://localhost:8080/"
        },
        "outputId": "b826a3b4-64e8-4d95-cc79-fbafaac710fa"
      },
      "outputs": [
        {
          "output_type": "stream",
          "name": "stdout",
          "text": [
            "[[0 1 0 ... 1 0 1]\n",
            " [1 0 1 ... 0 1 0]\n",
            " [0 1 0 ... 1 0 1]\n",
            " ...\n",
            " [1 0 1 ... 0 1 0]\n",
            " [0 1 0 ... 1 0 1]\n",
            " [1 0 1 ... 0 1 0]]\n"
          ]
        }
      ],
      "source": [
        "x=np.zeros((8,8),dtype=int)\n",
        "x[1::2,::2]=1\n",
        "x[::2,1::2]=1\n",
        "print(x)\n"
      ]
    },
    {
      "cell_type": "markdown",
      "metadata": {
        "id": "FoDPfAvUfSNA"
      },
      "source": [
        "#### 20. Consider a (6,7,8) shape array, what is the index (x,y,z) of the 100th element? \n",
        "(**hint**: np.unravel_index)"
      ]
    },
    {
      "cell_type": "code",
      "execution_count": 42,
      "metadata": {
        "id": "pRcIDtaafSNB",
        "colab": {
          "base_uri": "https://localhost:8080/"
        },
        "outputId": "74ff6de0-5a76-4e5c-d61f-e054767210b8"
      },
      "outputs": [
        {
          "output_type": "stream",
          "name": "stdout",
          "text": [
            "(1, 5, 3)\n"
          ]
        }
      ],
      "source": [
        "print(np.unravel_index(99,(6,7,8)))"
      ]
    },
    {
      "cell_type": "markdown",
      "metadata": {
        "id": "dOPKTyDYfSNB"
      },
      "source": [
        "#### 21. Create a checkerboard 8x8 matrix using the tile function (★☆☆) \n",
        "(**hint**: np.tile)"
      ]
    },
    {
      "cell_type": "code",
      "execution_count": 43,
      "metadata": {
        "id": "tH-E7WbifSNC",
        "colab": {
          "base_uri": "https://localhost:8080/"
        },
        "outputId": "043b37d1-d962-4791-d76c-1bbbc9b075bf"
      },
      "outputs": [
        {
          "output_type": "stream",
          "name": "stdout",
          "text": [
            "[[0 1 0 ... 1 0 1]\n",
            " [1 0 1 ... 0 1 0]\n",
            " [0 1 0 ... 1 0 1]\n",
            " ...\n",
            " [1 0 1 ... 0 1 0]\n",
            " [0 1 0 ... 1 0 1]\n",
            " [1 0 1 ... 0 1 0]]\n"
          ]
        }
      ],
      "source": [
        "x=np.tile(np.array([[0,1],[1,0]]),(4,4))\n",
        "print(x)"
      ]
    },
    {
      "cell_type": "markdown",
      "metadata": {
        "id": "xgN6YfAsfSNC"
      },
      "source": [
        "#### 22. Normalize a 5x5 random matrix (★☆☆) \n",
        "(**hint**: (x - min) / (max - min))"
      ]
    },
    {
      "cell_type": "code",
      "execution_count": 44,
      "metadata": {
        "id": "fYJwnw0_fSNC",
        "colab": {
          "base_uri": "https://localhost:8080/"
        },
        "outputId": "6b0ece70-0fc0-416f-a90c-bc8b150d504e"
      },
      "outputs": [
        {
          "output_type": "stream",
          "name": "stdout",
          "text": [
            "[[0.32008606 0.74654707 0.81589729 0.76049962 0.8505614 ]\n",
            " [0.25707767 0.85439966 0.42102925 0.01795489 0.85118105]\n",
            " [0.81895488 0.9954309  0.20881095 0.93287066 0.19389045]\n",
            " [0.99620781 0.562818   0.67175513 0.62815478 0.64003524]\n",
            " [1.         0.5948445  0.53799543 0.40036608 0.        ]]\n"
          ]
        }
      ],
      "source": [
        "x=np.random.random((5,5))\n",
        "xmax,xmin = x.max(),x.min()\n",
        "x=(x-xmin)/(xmax-xmin)\n",
        "print(x)"
      ]
    },
    {
      "cell_type": "markdown",
      "metadata": {
        "id": "CaMkmywbfSNC"
      },
      "source": [
        "#### 23. Create a custom dtype that describes a color as four unsigned bytes (RGBA) (★☆☆) \n",
        "(**hint**: np.dtype)"
      ]
    },
    {
      "cell_type": "code",
      "execution_count": 45,
      "metadata": {
        "collapsed": true,
        "id": "VEueCmEjfSND",
        "colab": {
          "base_uri": "https://localhost:8080/"
        },
        "outputId": "9a80d19e-7b66-4812-b977-7384f4a68a28"
      },
      "outputs": [
        {
          "output_type": "stream",
          "name": "stdout",
          "text": [
            "[('r', 'u1'), ('g', 'u1'), ('b', 'u1'), ('a', 'u1')]\n"
          ]
        }
      ],
      "source": [
        "color=np.dtype([(\"r\",np.ubyte),\n",
        "                (\"g\",np.ubyte),\n",
        "                (\"b\",np.ubyte),\n",
        "                (\"a\",np.ubyte)])\n",
        "print(color)\n"
      ]
    },
    {
      "cell_type": "markdown",
      "metadata": {
        "id": "iHHsa3R0fSND"
      },
      "source": [
        "#### 24. Multiply a 5x3 matrix by a 3x2 matrix (real matrix product) (★☆☆) \n",
        "(**hint**: np.dot | @)"
      ]
    },
    {
      "cell_type": "code",
      "execution_count": 46,
      "metadata": {
        "id": "KyPoGBfKfSND",
        "colab": {
          "base_uri": "https://localhost:8080/"
        },
        "outputId": "81db7d51-e0f9-41eb-83fe-50365c1b6d0f"
      },
      "outputs": [
        {
          "output_type": "stream",
          "name": "stdout",
          "text": [
            "[[3. 3.]\n",
            " [3. 3.]\n",
            " [3. 3.]\n",
            " [3. 3.]\n",
            " [3. 3.]]\n"
          ]
        }
      ],
      "source": [
        "x=np.dot(np.ones((5,3)),np.ones((3,2)))\n",
        "print(x)"
      ]
    },
    {
      "cell_type": "code",
      "source": [
        "x=np.ones((5,3)) @ np.ones((3,2))\n",
        "print(x)"
      ],
      "metadata": {
        "id": "gh4s-UQAgdtG",
        "colab": {
          "base_uri": "https://localhost:8080/"
        },
        "outputId": "76ed6550-617d-44b3-90f0-2235f66787cd"
      },
      "execution_count": 48,
      "outputs": [
        {
          "output_type": "stream",
          "name": "stdout",
          "text": [
            "[[3. 3.]\n",
            " [3. 3.]\n",
            " [3. 3.]\n",
            " [3. 3.]\n",
            " [3. 3.]]\n"
          ]
        }
      ]
    },
    {
      "cell_type": "markdown",
      "metadata": {
        "id": "0A-Jli6OfSNE"
      },
      "source": [
        "#### 25. Given a 1D array, negate all elements which are between 3 and 8, in place. (★☆☆) \n",
        "(**hint**: >, <=)"
      ]
    },
    {
      "cell_type": "code",
      "execution_count": 47,
      "metadata": {
        "id": "aPqkI37kfSNE",
        "colab": {
          "base_uri": "https://localhost:8080/"
        },
        "outputId": "c5393487-eb67-4dea-dfa9-4c990b8c4cf9"
      },
      "outputs": [
        {
          "output_type": "stream",
          "name": "stdout",
          "text": [
            "[ 0  1  2 ...  8  9 10]\n"
          ]
        }
      ],
      "source": [
        "x=np.arange(11)\n",
        "x[(3<x) & (x<8)] *=-1\n",
        "print(x)"
      ]
    },
    {
      "cell_type": "markdown",
      "metadata": {
        "id": "Jm-BHDjQfSNE"
      },
      "source": [
        "#### 26. What is the output of the following script? (★☆☆) \n",
        "(**hint**: np.sum)"
      ]
    },
    {
      "cell_type": "markdown",
      "metadata": {
        "id": "-ehc7T6zfSNF"
      },
      "source": [
        "```python\n",
        "# Author: Jake VanderPlas\n",
        "\n",
        "print(sum(range(5),-1))\n",
        "from numpy import *\n",
        "print(sum(range(5),-1))\n",
        "```"
      ]
    },
    {
      "cell_type": "code",
      "execution_count": 49,
      "metadata": {
        "id": "IFgvTNz8fSNF",
        "colab": {
          "base_uri": "https://localhost:8080/"
        },
        "outputId": "45e71aee-d43c-4adc-f64a-929423adc946"
      },
      "outputs": [
        {
          "output_type": "stream",
          "name": "stdout",
          "text": [
            "9\n",
            "10\n"
          ]
        }
      ],
      "source": [
        "print(sum(range(5),-1))\n",
        "from numpy import *\n",
        "print(sum(range(5),-1))"
      ]
    },
    {
      "cell_type": "markdown",
      "metadata": {
        "id": "ZDrWNjvPfSNG"
      },
      "source": [
        "#### 27. Consider an integer vector Z, which of these expressions are legal? (★☆☆)"
      ]
    },
    {
      "cell_type": "markdown",
      "metadata": {
        "id": "5a6M9R0ffSNG"
      },
      "source": [
        "```python\n",
        "Z**Z\n",
        "2 << Z >> 2\n",
        "Z <- Z\n",
        "1j*Z\n",
        "Z/1/1\n",
        "Z<Z>Z\n",
        "```"
      ]
    },
    {
      "cell_type": "code",
      "execution_count": 50,
      "metadata": {
        "id": "PqYRbpd3fSNG",
        "colab": {
          "base_uri": "https://localhost:8080/"
        },
        "outputId": "8917b3d5-62ef-41b2-e82b-419ee4b6aabd"
      },
      "outputs": [
        {
          "output_type": "execute_result",
          "data": {
            "text/plain": [
              "False"
            ]
          },
          "metadata": {},
          "execution_count": 50
        }
      ],
      "source": [
        "z=1\n",
        "z**z\n",
        "2<<z>>2\n",
        "z<-z\n",
        "1j*z\n",
        "z/1/1\n",
        "z<z>z"
      ]
    },
    {
      "cell_type": "markdown",
      "metadata": {
        "id": "Q1ni271ifSNH"
      },
      "source": [
        "#### 28. What are the result of the following expressions?"
      ]
    },
    {
      "cell_type": "markdown",
      "metadata": {
        "id": "SX8q7QmlfSNH"
      },
      "source": [
        "```python\n",
        "np.array(0) / np.array(0)\n",
        "np.array(0) // np.array(0)\n",
        "np.array([np.nan]).astype(int).astype(float)\n",
        "```"
      ]
    },
    {
      "cell_type": "code",
      "execution_count": 51,
      "metadata": {
        "id": "B_my7pFBfSNH",
        "colab": {
          "base_uri": "https://localhost:8080/"
        },
        "outputId": "c5d184fc-2fc3-454c-c8f4-c319b29a1585"
      },
      "outputs": [
        {
          "output_type": "stream",
          "name": "stdout",
          "text": [
            "nan\n",
            "0\n",
            "[-9.22337204e+18]\n"
          ]
        },
        {
          "output_type": "stream",
          "name": "stderr",
          "text": [
            "/usr/local/lib/python3.7/dist-packages/ipykernel_launcher.py:1: RuntimeWarning: invalid value encountered in true_divide\n",
            "  \"\"\"Entry point for launching an IPython kernel.\n",
            "/usr/local/lib/python3.7/dist-packages/ipykernel_launcher.py:2: RuntimeWarning: divide by zero encountered in floor_divide\n",
            "  \n"
          ]
        }
      ],
      "source": [
        "print(np.array(0) / np.array(0))\n",
        "print(np.array(0) // np.array(0))\n",
        "print(np.array([np.nan]).astype(int).astype(float))"
      ]
    },
    {
      "cell_type": "markdown",
      "metadata": {
        "id": "x0T39f56fSNI"
      },
      "source": [
        "#### 29. How to round away from zero a float array ? (★☆☆) \n",
        "(**hint**: np.uniform, np.copysign, np.ceil, np.abs)"
      ]
    },
    {
      "cell_type": "code",
      "execution_count": 52,
      "metadata": {
        "id": "iADGIRLrfSNI",
        "colab": {
          "base_uri": "https://localhost:8080/"
        },
        "outputId": "6b80e07b-2363-4298-de7a-30bb649c0bad"
      },
      "outputs": [
        {
          "output_type": "stream",
          "name": "stdout",
          "text": [
            "[ 1. -3.  9. ... -4. -3. -3.]\n",
            "[ 1. -3.  9. ... -4. -3. -3.]\n"
          ]
        }
      ],
      "source": [
        "x=np.random.uniform(-10,+10,10)\n",
        "print(np.copysign(np.ceil(np.abs(x)),x))\n",
        "\n",
        "#less efficient\n",
        "print(np.where(x>0, np.ceil(x), np.floor(x)))"
      ]
    },
    {
      "cell_type": "markdown",
      "metadata": {
        "id": "q48Jj-RkfSNI"
      },
      "source": [
        "#### 30. How to find common values between two arrays? (★☆☆) \n",
        "(**hint**: np.intersect1d)"
      ]
    },
    {
      "cell_type": "code",
      "execution_count": 53,
      "metadata": {
        "id": "UMUd6ZFFfSNJ",
        "colab": {
          "base_uri": "https://localhost:8080/"
        },
        "outputId": "0a6c7c82-e4e3-4e84-cdb4-ca7c5d7de914"
      },
      "outputs": [
        {
          "output_type": "stream",
          "name": "stdout",
          "text": [
            "[2 6 9]\n"
          ]
        }
      ],
      "source": [
        "x1=np.random.randint(0,10,10)\n",
        "x2=np.random.randint(0,10,10)\n",
        "print(np.intersect1d(x1,x2))"
      ]
    },
    {
      "cell_type": "markdown",
      "metadata": {
        "id": "C5crhXCBfSNJ"
      },
      "source": [
        "#### 31. How to ignore all numpy warnings (not recommended)? (★☆☆) \n",
        "(**hint**: np.seterr, np.errstate)"
      ]
    },
    {
      "cell_type": "code",
      "execution_count": 54,
      "metadata": {
        "id": "UdwdLHHhfSNJ"
      },
      "outputs": [],
      "source": [
        "#suicide mode on\n",
        "defaults=np.seterr(all=\"ignore\")\n",
        "x=np.ones(1)/0\n",
        "#back to sanity\n",
        "_=np.seterr(**defaults)\n",
        "\n",
        "#equivalently with a context manager\n",
        "with np.errstate(all=\"ignore\"):\n",
        "  np.arange(3)/0\n"
      ]
    },
    {
      "cell_type": "markdown",
      "metadata": {
        "id": "NtpMhTs8fSNK"
      },
      "source": [
        "#### 32. Is the following expressions true? (★☆☆) \n",
        "(**hint**: imaginary number)"
      ]
    },
    {
      "cell_type": "markdown",
      "metadata": {
        "id": "jTxMozbFfSNK"
      },
      "source": [
        "```python\n",
        "np.sqrt(-1) == np.emath.sqrt(-1)\n",
        "```"
      ]
    },
    {
      "cell_type": "code",
      "execution_count": 55,
      "metadata": {
        "id": "U6fYDte2fSNK",
        "colab": {
          "base_uri": "https://localhost:8080/"
        },
        "outputId": "c839e5b3-4d0e-409c-9a9a-ea4a3ddb71b7"
      },
      "outputs": [
        {
          "output_type": "stream",
          "name": "stderr",
          "text": [
            "/usr/local/lib/python3.7/dist-packages/ipykernel_launcher.py:1: RuntimeWarning: invalid value encountered in sqrt\n",
            "  \"\"\"Entry point for launching an IPython kernel.\n"
          ]
        },
        {
          "output_type": "execute_result",
          "data": {
            "text/plain": [
              "False"
            ]
          },
          "metadata": {},
          "execution_count": 55
        }
      ],
      "source": [
        "np.sqrt(-1) == np.emath.sqrt(-1)"
      ]
    },
    {
      "cell_type": "markdown",
      "metadata": {
        "id": "68-Ex-06fSNL"
      },
      "source": [
        "#### 33. How to get the dates of yesterday, today and tomorrow? (★☆☆) \n",
        "(**hint**: np.datetime64, np.timedelta64)"
      ]
    },
    {
      "cell_type": "code",
      "execution_count": 56,
      "metadata": {
        "collapsed": true,
        "id": "-sG_D5jgfSNL",
        "colab": {
          "base_uri": "https://localhost:8080/"
        },
        "outputId": "774d7701-e4cf-4d70-f751-e85e16d0d7eb"
      },
      "outputs": [
        {
          "output_type": "stream",
          "name": "stdout",
          "text": [
            "2022-04-08\n",
            "2022-04-09\n",
            "2022-04-10\n"
          ]
        }
      ],
      "source": [
        "yesterday=np.datetime64('today')-np.timedelta64(1)\n",
        "today=np.datetime64('today')\n",
        "tomorrow=np.datetime64('today')+np.timedelta64(1)\n",
        "print(yesterday)\n",
        "print(today)\n",
        "print(tomorrow)"
      ]
    },
    {
      "cell_type": "markdown",
      "metadata": {
        "id": "RnBHa92GfSNL"
      },
      "source": [
        "#### 34. How to get all the dates corresponding to the month of July 2016? (★★☆) \n",
        "(**hint**: np.arange(dtype=datetime64\\['D'\\]))"
      ]
    },
    {
      "cell_type": "code",
      "execution_count": 57,
      "metadata": {
        "id": "LYyFoGNZfSNM",
        "colab": {
          "base_uri": "https://localhost:8080/"
        },
        "outputId": "c369b020-9c41-4199-fc63-5c0223c0d7f8"
      },
      "outputs": [
        {
          "output_type": "stream",
          "name": "stdout",
          "text": [
            "['2016-07-01' '2016-07-02' '2016-07-03' ... '2016-07-29' '2016-07-30'\n",
            " '2016-07-31']\n"
          ]
        }
      ],
      "source": [
        "x=np.arange('2016-07' , '2016-08', dtype='datetime64[D]')\n",
        "print(x)"
      ]
    },
    {
      "cell_type": "markdown",
      "metadata": {
        "id": "GRFm-RIZfSNM"
      },
      "source": [
        "#### 35. How to compute ((A+B)\\*(-A/2)) in place (without copy)? (★★☆) \n",
        "(**hint**: np.add(out=), np.negative(out=), np.multiply(out=), np.divide(out=))"
      ]
    },
    {
      "cell_type": "code",
      "execution_count": 58,
      "metadata": {
        "id": "sZqRxEJqfSNM",
        "colab": {
          "base_uri": "https://localhost:8080/"
        },
        "outputId": "ee934aae-a2dc-43b6-e924-e8cfe885db48"
      },
      "outputs": [
        {
          "output_type": "execute_result",
          "data": {
            "text/plain": [
              "array([-1.5, -1.5, -1.5])"
            ]
          },
          "metadata": {},
          "execution_count": 58
        }
      ],
      "source": [
        "a=np.ones(3)*1\n",
        "b=np.ones(3)*2\n",
        "np.add(a,b,out=b)\n",
        "np.divide(a,2,out=a)\n",
        "np.negative(a,out=a)\n",
        "np.multiply(a,b,out=a)"
      ]
    },
    {
      "cell_type": "markdown",
      "metadata": {
        "id": "kWlt_trFfSNM"
      },
      "source": [
        "#### 36. Extract the integer part of a random array using 5 different methods (★★☆) \n",
        "(**hint**: %, np.floor, np.ceil, astype, np.trunc)"
      ]
    },
    {
      "cell_type": "code",
      "execution_count": 59,
      "metadata": {
        "id": "7T2jL8T_fSNN",
        "colab": {
          "base_uri": "https://localhost:8080/"
        },
        "outputId": "0090c48b-1d15-45bc-dcb0-ff26ceb73ea2"
      },
      "outputs": [
        {
          "output_type": "stream",
          "name": "stdout",
          "text": [
            "[4. 6. 5. ... 9. 6. 1.]\n",
            "[4. 6. 5. ... 9. 6. 1.]\n",
            "[4. 6. 5. ... 9. 6. 1.]\n",
            "[4 6 5 ... 9 6 1]\n",
            "[4. 6. 5. ... 9. 6. 1.]\n"
          ]
        }
      ],
      "source": [
        "z=np.random.uniform(0,10,10)\n",
        "print(z-z%1)\n",
        "print(z//1)\n",
        "print(np.floor(z))\n",
        "print(z.astype(int))\n",
        "print(np.trunc(z))"
      ]
    },
    {
      "cell_type": "markdown",
      "metadata": {
        "id": "ol5Qc8qRfSNN"
      },
      "source": [
        "#### 37. Create a 5x5 matrix with row values ranging from 0 to 4 (★★☆) \n",
        "(**hint**: np.arange)"
      ]
    },
    {
      "cell_type": "code",
      "execution_count": 60,
      "metadata": {
        "id": "TmN6ITByfSNN",
        "colab": {
          "base_uri": "https://localhost:8080/"
        },
        "outputId": "8021f50d-b588-4643-ac9c-32a2dbe88cb4"
      },
      "outputs": [
        {
          "output_type": "stream",
          "name": "stdout",
          "text": [
            "[[0. 1. 2. 3. 4.]\n",
            " [0. 1. 2. 3. 4.]\n",
            " [0. 1. 2. 3. 4.]\n",
            " [0. 1. 2. 3. 4.]\n",
            " [0. 1. 2. 3. 4.]]\n",
            "[[0 1 2 3 4]\n",
            " [0 1 2 3 4]\n",
            " [0 1 2 3 4]\n",
            " [0 1 2 3 4]\n",
            " [0 1 2 3 4]]\n"
          ]
        }
      ],
      "source": [
        "x=np.zeros((5,5))\n",
        "x +=np.arange(5)\n",
        "print(x)\n",
        "\n",
        "#WITHOUT BROADCASING\n",
        "x=np.tile(np.arange(0,5),(5,1))\n",
        "print(x)"
      ]
    },
    {
      "cell_type": "markdown",
      "metadata": {
        "id": "BppJ_Ml4fSNO"
      },
      "source": [
        "#### 38. Consider a generator function that generates 10 integers and use it to build an array (★☆☆) \n",
        "(**hint**: np.fromiter)"
      ]
    },
    {
      "cell_type": "code",
      "execution_count": 61,
      "metadata": {
        "id": "kHmG157EfSNO",
        "colab": {
          "base_uri": "https://localhost:8080/"
        },
        "outputId": "1e3ed3f6-8a55-4bec-e5ee-3c5bded01e40"
      },
      "outputs": [
        {
          "output_type": "stream",
          "name": "stdout",
          "text": [
            "[0. 1. 2. ... 7. 8. 9.]\n"
          ]
        }
      ],
      "source": [
        "def generate():\n",
        "  for x in range(10):\n",
        "    yield x\n",
        "y=np.fromiter(generate(),dtype=float,count=-1)\n",
        "print(y)"
      ]
    },
    {
      "cell_type": "markdown",
      "metadata": {
        "id": "1Kt3j3k0fSNP"
      },
      "source": [
        "#### 39. Create a vector of size 10 with values ranging from 0 to 1, both excluded (★★☆) \n",
        "(**hint**: np.linspace)"
      ]
    },
    {
      "cell_type": "code",
      "execution_count": 62,
      "metadata": {
        "id": "6RaZ47S3fSNP",
        "colab": {
          "base_uri": "https://localhost:8080/"
        },
        "outputId": "6a229313-9880-42a5-ef54-aa4257fe42b4"
      },
      "outputs": [
        {
          "output_type": "stream",
          "name": "stdout",
          "text": [
            "[0.09090909 0.18181818 0.27272727 ... 0.72727273 0.81818182 0.90909091]\n"
          ]
        }
      ],
      "source": [
        "x=np.linspace(0,1,11,endpoint=False)[1:]\n",
        "print(x)"
      ]
    },
    {
      "cell_type": "markdown",
      "metadata": {
        "id": "v34I2DYcfSNQ"
      },
      "source": [
        "#### 40. Create a random vector of size 10 and sort it (★★☆) \n",
        "(**hint**: sort)"
      ]
    },
    {
      "cell_type": "code",
      "execution_count": 63,
      "metadata": {
        "id": "K4CV8njLfSNQ",
        "colab": {
          "base_uri": "https://localhost:8080/"
        },
        "outputId": "c9586dbe-dcad-494a-fff3-fc5872a920cd"
      },
      "outputs": [
        {
          "output_type": "stream",
          "name": "stdout",
          "text": [
            "[0.11828121 0.23239302 0.29312256 ... 0.56563759 0.81900556 0.91516367]\n"
          ]
        }
      ],
      "source": [
        "x=np.random.random(10)\n",
        "x.sort()\n",
        "print(x)"
      ]
    },
    {
      "cell_type": "markdown",
      "metadata": {
        "id": "qcmrgHUhfSNR"
      },
      "source": [
        "#### 41. How to sum a small array faster than np.sum? (★★☆) \n",
        "(**hint**: np.add.reduce)"
      ]
    },
    {
      "cell_type": "code",
      "execution_count": 65,
      "metadata": {
        "id": "NPei2p_5fSNR",
        "colab": {
          "base_uri": "https://localhost:8080/"
        },
        "outputId": "60a80f83-f2a0-4a7d-e485-a43093fc4b9a"
      },
      "outputs": [
        {
          "output_type": "execute_result",
          "data": {
            "text/plain": [
              "53.95059413639703"
            ]
          },
          "metadata": {},
          "execution_count": 65
        }
      ],
      "source": [
        "x=np.arange(10)\n",
        "np.add.reduce(z)"
      ]
    },
    {
      "cell_type": "markdown",
      "metadata": {
        "id": "4_CCFAnCfSNS"
      },
      "source": [
        "#### 42. Consider two random array A and B, check if they are equal (★★☆) \n",
        "(**hint**: np.allclose, np.array\\_equal)"
      ]
    },
    {
      "cell_type": "code",
      "execution_count": 64,
      "metadata": {
        "id": "yY8fZ6axfSNS",
        "colab": {
          "base_uri": "https://localhost:8080/"
        },
        "outputId": "b86c6765-8b7c-4619-f028-9af3a7ae1b2a"
      },
      "outputs": [
        {
          "output_type": "stream",
          "name": "stdout",
          "text": [
            "False\n",
            "False\n"
          ]
        }
      ],
      "source": [
        "a=np.random.randint(0,2,5)\n",
        "b=np.random.randint(0,2,5)\n",
        "\n",
        "#comparsion of values\n",
        "equal=np.allclose(a,b)\n",
        "print(equal)\n",
        "\n",
        "#values have to be exactly equal\n",
        "equal=np.array_equal(a,b)\n",
        "print(equal)"
      ]
    },
    {
      "cell_type": "markdown",
      "metadata": {
        "id": "xhbRi57dfSNS"
      },
      "source": [
        "#### 43. Make an array immutable (read-only) (★★☆) \n",
        "(**hint**: flags.writeable)"
      ]
    },
    {
      "cell_type": "code",
      "execution_count": 66,
      "metadata": {
        "id": "2PHTiEw2fSNT",
        "colab": {
          "base_uri": "https://localhost:8080/",
          "height": 200
        },
        "outputId": "e6fa0f9b-dc85-46e6-faab-d924ac1779f7"
      },
      "outputs": [
        {
          "output_type": "error",
          "ename": "ValueError",
          "evalue": "ignored",
          "traceback": [
            "\u001b[0;31m---------------------------------------------------------------------------\u001b[0m",
            "\u001b[0;31mValueError\u001b[0m                                Traceback (most recent call last)",
            "\u001b[0;32m<ipython-input-66-bbcb095bf185>\u001b[0m in \u001b[0;36m<module>\u001b[0;34m()\u001b[0m\n\u001b[1;32m      2\u001b[0m \u001b[0mx\u001b[0m \u001b[0;34m=\u001b[0m \u001b[0mnp\u001b[0m\u001b[0;34m.\u001b[0m\u001b[0mzeros\u001b[0m\u001b[0;34m(\u001b[0m\u001b[0;36m10\u001b[0m\u001b[0;34m)\u001b[0m\u001b[0;34m\u001b[0m\u001b[0;34m\u001b[0m\u001b[0m\n\u001b[1;32m      3\u001b[0m \u001b[0mx\u001b[0m\u001b[0;34m.\u001b[0m\u001b[0mflags\u001b[0m\u001b[0;34m.\u001b[0m\u001b[0mwriteable\u001b[0m \u001b[0;34m=\u001b[0m \u001b[0;32mFalse\u001b[0m\u001b[0;34m\u001b[0m\u001b[0;34m\u001b[0m\u001b[0m\n\u001b[0;32m----> 4\u001b[0;31m \u001b[0mx\u001b[0m\u001b[0;34m[\u001b[0m\u001b[0;36m0\u001b[0m\u001b[0;34m]\u001b[0m\u001b[0;34m=\u001b[0m\u001b[0;34m[\u001b[0m\u001b[0;36m1\u001b[0m\u001b[0;34m]\u001b[0m\u001b[0;34m\u001b[0m\u001b[0;34m\u001b[0m\u001b[0m\n\u001b[0m",
            "\u001b[0;31mValueError\u001b[0m: assignment destination is read-only"
          ]
        }
      ],
      "source": [
        "import numpy as np\n",
        "x = np.zeros(10)\n",
        "x.flags.writeable = False\n",
        "x[0]=[1]"
      ]
    },
    {
      "cell_type": "markdown",
      "metadata": {
        "id": "LwkZHvLcfSNT"
      },
      "source": [
        "#### 44. Consider a random 10x2 matrix representing cartesian coordinates, convert them to polar coordinates (★★☆) \n",
        "(**hint**: np.sqrt, np.arctan2)"
      ]
    },
    {
      "cell_type": "code",
      "execution_count": 67,
      "metadata": {
        "id": "73AzX0LsfSNT",
        "colab": {
          "base_uri": "https://localhost:8080/"
        },
        "outputId": "1663fdcf-d1e3-46db-b716-5c1a810bc012"
      },
      "outputs": [
        {
          "output_type": "stream",
          "name": "stdout",
          "text": [
            "[0.1727907  0.70180002 0.99492519 ... 0.62542431 1.1169235  0.75652309]\n",
            "[0.8867055  0.88564156 0.7671515  ... 1.37210693 0.72318618 1.50309832]\n"
          ]
        }
      ],
      "source": [
        "z=np.random.random((10,2))\n",
        "x,y = z[:,0], z[:,1]\n",
        "r=np.sqrt(x**2+y**2)\n",
        "t=np.arctan2(y,x)\n",
        "print(r)\n",
        "print(t)"
      ]
    },
    {
      "cell_type": "markdown",
      "metadata": {
        "id": "L4ycL26dfSNT"
      },
      "source": [
        "#### 45. Create random vector of size 10 and replace the maximum value by 0 (★★☆) \n",
        "(**hint**: argmax)"
      ]
    },
    {
      "cell_type": "code",
      "execution_count": 68,
      "metadata": {
        "id": "OCVLfgNQfSNU",
        "colab": {
          "base_uri": "https://localhost:8080/"
        },
        "outputId": "eef83090-9af0-4676-92b8-52ee6c4454c0"
      },
      "outputs": [
        {
          "output_type": "stream",
          "name": "stdout",
          "text": [
            "[[0.10919831 0.13391175]\n",
            " [0.44409404 0.54341858]\n",
            " [0.71623739 0.69056509]\n",
            " ...\n",
            " [0.12344918 0.61311979]\n",
            " [0.83735866 0.73915396]\n",
            " [0.051176   0.75479018]]\n"
          ]
        }
      ],
      "source": [
        "x=np.random.random(10)\n",
        "x[x.argmax()]=0\n",
        "print(z)"
      ]
    },
    {
      "cell_type": "markdown",
      "metadata": {
        "id": "otjz7hMGfSNU"
      },
      "source": [
        "#### 46. Create a structured array with `x` and `y` coordinates covering the \\[0,1\\]x\\[0,1\\] area (★★☆) \n",
        "(**hint**: np.meshgrid)"
      ]
    },
    {
      "cell_type": "code",
      "execution_count": 69,
      "metadata": {
        "id": "H_HWkCfqfSNU",
        "colab": {
          "base_uri": "https://localhost:8080/"
        },
        "outputId": "fcc7924f-a7d6-4def-c75d-b9a6515770c0"
      },
      "outputs": [
        {
          "output_type": "stream",
          "name": "stdout",
          "text": [
            "[[(0.  , 0.  ) (0.25, 0.  ) (0.5 , 0.  ) (0.75, 0.  ) (1.  , 0.  )]\n",
            " [(0.  , 0.25) (0.25, 0.25) (0.5 , 0.25) (0.75, 0.25) (1.  , 0.25)]\n",
            " [(0.  , 0.5 ) (0.25, 0.5 ) (0.5 , 0.5 ) (0.75, 0.5 ) (1.  , 0.5 )]\n",
            " [(0.  , 0.75) (0.25, 0.75) (0.5 , 0.75) (0.75, 0.75) (1.  , 0.75)]\n",
            " [(0.  , 1.  ) (0.25, 1.  ) (0.5 , 1.  ) (0.75, 1.  ) (1.  , 1.  )]]\n"
          ]
        }
      ],
      "source": [
        "z=np.zeros((5,5),[('x',float),('y',float)])\n",
        "z['x'],z['y']=np.meshgrid(np.linspace(0,1,5),\n",
        "                          np.linspace(0,1,5))\n",
        "print(z)"
      ]
    },
    {
      "cell_type": "markdown",
      "metadata": {
        "id": "k5uIpUXPfSNV"
      },
      "source": [
        "####  47. Given two arrays, X and Y, construct the Cauchy matrix C (Cij =1/(xi - yj)) \n",
        "(**hint**: np.subtract.outer)"
      ]
    },
    {
      "cell_type": "code",
      "execution_count": 70,
      "metadata": {
        "id": "grIKdxjmfSNV",
        "colab": {
          "base_uri": "https://localhost:8080/"
        },
        "outputId": "0f5cad7c-b3f6-49e1-90b0-818aa3ce12db"
      },
      "outputs": [
        {
          "output_type": "stream",
          "name": "stdout",
          "text": [
            "3638.163637117973\n"
          ]
        }
      ],
      "source": [
        "x=np.arange(8)\n",
        "y=x+0.5\n",
        "c=1.0 / np.subtract.outer(x,y)\n",
        "print(np.linalg.det(c))"
      ]
    },
    {
      "cell_type": "markdown",
      "metadata": {
        "id": "tmaRh-FDfSNV"
      },
      "source": [
        "#### 48. Print the minimum and maximum representable value for each numpy scalar type (★★☆) \n",
        "(**hint**: np.iinfo, np.finfo, eps)"
      ]
    },
    {
      "cell_type": "code",
      "execution_count": 71,
      "metadata": {
        "id": "DgvLXP6ZfSNW",
        "colab": {
          "base_uri": "https://localhost:8080/"
        },
        "outputId": "38d87765-79ef-4ced-f3d5-9491dc40ef6c"
      },
      "outputs": [
        {
          "output_type": "stream",
          "name": "stdout",
          "text": [
            "-128\n",
            "127\n",
            "-2147483648\n",
            "2147483647\n",
            "-9223372036854775808\n",
            "9223372036854775807\n",
            "-3.4028235e+38\n",
            "3.4028235e+38\n",
            "1.1920929e-07\n",
            "-1.7976931348623157e+308\n",
            "1.7976931348623157e+308\n",
            "2.220446049250313e-16\n"
          ]
        }
      ],
      "source": [
        "for dtype in [np.int8, np.int32,np.int64]:\n",
        "  print(np.iinfo(dtype).min)\n",
        "  print(np.iinfo(dtype).max)\n",
        "for dtype in [np.float32, np.float64]:\n",
        "  print(np.finfo(dtype).min)\n",
        "  print(np.finfo(dtype).max)\n",
        "  print(np.finfo(dtype).eps)"
      ]
    },
    {
      "cell_type": "markdown",
      "metadata": {
        "id": "5v7YtrPMfSNW"
      },
      "source": [
        "#### 49. How to print all the values of an array? (★★☆) \n",
        "(**hint**: np.set\\_printoptions)"
      ]
    },
    {
      "cell_type": "code",
      "execution_count": 72,
      "metadata": {
        "id": "CfGx-ZdkfSNW",
        "colab": {
          "base_uri": "https://localhost:8080/"
        },
        "outputId": "bf997536-52ca-40b0-c38f-726bf192bca0"
      },
      "outputs": [
        {
          "output_type": "stream",
          "name": "stdout",
          "text": [
            "[[0. 0. 0. 0.]\n",
            " [0. 0. 0. 0.]\n",
            " [0. 0. 0. 0.]\n",
            " [0. 0. 0. 0.]]\n"
          ]
        }
      ],
      "source": [
        "np.set_printoptions(threshold=float())\n",
        "x=np.zeros((4,4))\n",
        "print(x)"
      ]
    },
    {
      "cell_type": "markdown",
      "metadata": {
        "id": "DwbU9BQYfSNW"
      },
      "source": [
        "#### 50. How to find the closest value (to a given scalar) in a vector? (★★☆) \n",
        "(**hint**: argmin)"
      ]
    },
    {
      "cell_type": "code",
      "execution_count": 73,
      "metadata": {
        "id": "izsjC2scfSNX",
        "colab": {
          "base_uri": "https://localhost:8080/"
        },
        "outputId": "f43d7afb-bf0a-4be3-b016-1da1d3c3cf31"
      },
      "outputs": [
        {
          "output_type": "stream",
          "name": "stdout",
          "text": [
            "24\n"
          ]
        }
      ],
      "source": [
        "z=np.arange(100)\n",
        "v=np.random.uniform(0,100)\n",
        "index=(np.abs(z-v)).argmin()\n",
        "print(z[index])"
      ]
    },
    {
      "cell_type": "markdown",
      "metadata": {
        "id": "vqu6gkg4fSNX"
      },
      "source": [
        "#### 51. Create a structured array representing a position (x,y) and a color (r,g,b) (★★☆) \n",
        "(**hint**: dtype)"
      ]
    },
    {
      "cell_type": "code",
      "execution_count": 74,
      "metadata": {
        "id": "MeMiaAaofSNY",
        "colab": {
          "base_uri": "https://localhost:8080/"
        },
        "outputId": "05ef8c6c-58dc-49e6-db1d-07def2bfe967"
      },
      "outputs": [
        {
          "output_type": "stream",
          "name": "stdout",
          "text": [
            "[((0., 0.), (0., 0., 0.)) ((0., 0.), (0., 0., 0.))\n",
            " ((0., 0.), (0., 0., 0.)) ... ((0., 0.), (0., 0., 0.))\n",
            " ((0., 0.), (0., 0., 0.)) ((0., 0.), (0., 0., 0.))]\n"
          ]
        },
        {
          "output_type": "stream",
          "name": "stderr",
          "text": [
            "/usr/local/lib/python3.7/dist-packages/ipykernel_launcher.py:5: FutureWarning: Passing (type, 1) or '1type' as a synonym of type is deprecated; in a future version of numpy, it will be understood as (type, (1,)) / '(1,)type'.\n",
            "  \"\"\"\n"
          ]
        }
      ],
      "source": [
        "z=np.zeros(10,[ ('position',[('x',float,1),\n",
        "                            ('y',float,1)]),\n",
        "                ('color',   [('r',float,1),\n",
        "                             ('g',float,1),\n",
        "                             ('b',float,1)])])\n",
        "print(z)\n",
        "           "
      ]
    },
    {
      "cell_type": "markdown",
      "metadata": {
        "id": "S25Q067ZfSNY"
      },
      "source": [
        "#### 52. Consider a random vector with shape (100,2) representing coordinates, find point by point distances (★★☆) \n",
        "(**hint**: np.atleast\\_2d, T, np.sqrt)"
      ]
    },
    {
      "cell_type": "code",
      "execution_count": 17,
      "metadata": {
        "id": "cHvk__nUfSNY",
        "colab": {
          "base_uri": "https://localhost:8080/"
        },
        "outputId": "93e1dbf7-35ad-45fe-ce0c-b417143092e3"
      },
      "outputs": [
        {
          "output_type": "stream",
          "name": "stdout",
          "text": [
            "[[0.         0.15754013 0.33253963 ... 0.26259376 0.00371824 0.29030886]\n",
            " [0.15754013 0.         0.1749995  ... 0.10505363 0.15382188 0.13276873]\n",
            " [0.33253963 0.1749995  0.         ... 0.06994587 0.32882138 0.04223077]\n",
            " ...\n",
            " [0.26259376 0.10505363 0.06994587 ... 0.         0.25887552 0.0277151 ]\n",
            " [0.00371824 0.15382188 0.32882138 ... 0.25887552 0.         0.28659062]\n",
            " [0.29030886 0.13276873 0.04223077 ... 0.0277151  0.28659062 0.        ]]\n"
          ]
        }
      ],
      "source": [
        "z=np.random.random((100,2))\n",
        "x,y=np.atleast_2d(z[:,0]) , (z[:,1])\n",
        "d=np.sqrt((x-x.T)**2+(y-y.T)**2)\n",
        "print(d)"
      ]
    },
    {
      "cell_type": "markdown",
      "metadata": {
        "id": "7CUgmWWgfSNZ"
      },
      "source": [
        "#### 53. How to convert a float (32 bits) array into an integer (32 bits) in place? \n",
        "(**hint**: astype(copy=False))"
      ]
    },
    {
      "cell_type": "code",
      "execution_count": 75,
      "metadata": {
        "id": "eVECd1urfSNZ",
        "colab": {
          "base_uri": "https://localhost:8080/"
        },
        "outputId": "5e443da3-9961-4cbd-ed68-f0a87f9390b2"
      },
      "outputs": [
        {
          "output_type": "stream",
          "name": "stdout",
          "text": [
            "[26 26 36 ...  0 82 48]\n"
          ]
        }
      ],
      "source": [
        "z=(np.random.rand(10)*100).astype(np.float32)\n",
        "y=z.view(np.int32)\n",
        "y[:]=z\n",
        "print(y)"
      ]
    },
    {
      "cell_type": "markdown",
      "metadata": {
        "id": "9PTvczbCfSNZ"
      },
      "source": [
        "#### 54. How to read the following file? (★★☆) \n",
        "(**hint**: np.genfromtxt)"
      ]
    },
    {
      "cell_type": "markdown",
      "metadata": {
        "id": "x8H0yNY-fSNZ"
      },
      "source": [
        "```\n",
        "1, 2, 3, 4, 5\n",
        "6,  ,  , 7, 8\n",
        " ,  , 9,10,11\n",
        "```"
      ]
    },
    {
      "cell_type": "code",
      "execution_count": 76,
      "metadata": {
        "id": "JLklFT1bfSNa",
        "colab": {
          "base_uri": "https://localhost:8080/"
        },
        "outputId": "6435db66-8b0f-472e-9850-a720f94d8902"
      },
      "outputs": [
        {
          "output_type": "stream",
          "name": "stdout",
          "text": [
            "[[ 1  2  3  4  5]\n",
            " [ 6 -1 -1  7  8]\n",
            " [-1 -1  9 10 11]]\n"
          ]
        },
        {
          "output_type": "stream",
          "name": "stderr",
          "text": [
            "/usr/local/lib/python3.7/dist-packages/ipykernel_launcher.py:6: DeprecationWarning: `np.int` is a deprecated alias for the builtin `int`. To silence this warning, use `int` by itself. Doing this will not modify any behavior and is safe. When replacing `np.int`, you may wish to use e.g. `np.int64` or `np.int32` to specify the precision. If you wish to review your current use, check the release note link for additional information.\n",
            "Deprecated in NumPy 1.20; for more details and guidance: https://numpy.org/devdocs/release/1.20.0-notes.html#deprecations\n",
            "  \n"
          ]
        }
      ],
      "source": [
        "from io import StringIO\n",
        "s=StringIO('''1,2,3,4,5\n",
        "           6, , ,7,8\n",
        "            , ,9,10,11\n",
        "''')  \n",
        "z=np.genfromtxt(s, delimiter=\",\",dtype=np.int) \n",
        "print(z)       "
      ]
    },
    {
      "cell_type": "markdown",
      "metadata": {
        "id": "TjRKTWRGfSNa"
      },
      "source": [
        "#### 55. What is the equivalent of enumerate for numpy arrays? (★★☆) \n",
        "(**hint**: np.ndenumerate, np.ndindex)"
      ]
    },
    {
      "cell_type": "code",
      "execution_count": 77,
      "metadata": {
        "id": "qQaRX3H0fSNa",
        "colab": {
          "base_uri": "https://localhost:8080/"
        },
        "outputId": "5b64b9e5-631d-45d2-ca84-5437d8bc3f8c"
      },
      "outputs": [
        {
          "output_type": "stream",
          "name": "stdout",
          "text": [
            "(0, 0) 0\n",
            "(0, 1) 1\n",
            "(0, 2) 2\n",
            "(1, 0) 3\n",
            "(1, 1) 4\n",
            "(1, 2) 5\n",
            "(2, 0) 6\n",
            "(2, 1) 7\n",
            "(2, 2) 8\n",
            "(0, 0) 0\n",
            "(0, 1) 1\n",
            "(0, 2) 2\n",
            "(1, 0) 3\n",
            "(1, 1) 4\n",
            "(1, 2) 5\n",
            "(2, 0) 6\n",
            "(2, 1) 7\n",
            "(2, 2) 8\n"
          ]
        }
      ],
      "source": [
        "z=np.arange(9).reshape(3,3)\n",
        "for index, value in np.ndenumerate(z):\n",
        "  print(index, value)\n",
        "for index in np.ndindex(z.shape):\n",
        "  print(index, z[index])"
      ]
    },
    {
      "cell_type": "markdown",
      "metadata": {
        "id": "6b8SmF_FfSNb"
      },
      "source": [
        "#### 56. Generate a generic 2D Gaussian-like array (★★☆) \n",
        "(**hint**: np.meshgrid, np.exp)"
      ]
    },
    {
      "cell_type": "code",
      "execution_count": 78,
      "metadata": {
        "id": "G5LAtONNfSNb",
        "colab": {
          "base_uri": "https://localhost:8080/"
        },
        "outputId": "83fcc709-8f78-4271-f01c-b13a94c587bd"
      },
      "outputs": [
        {
          "output_type": "stream",
          "name": "stdout",
          "text": [
            "[[0.36787944 0.44822088 0.51979489 ... 0.51979489 0.44822088 0.36787944]\n",
            " [0.44822088 0.54610814 0.63331324 ... 0.63331324 0.54610814 0.44822088]\n",
            " [0.51979489 0.63331324 0.73444367 ... 0.73444367 0.63331324 0.51979489]\n",
            " ...\n",
            " [0.51979489 0.63331324 0.73444367 ... 0.73444367 0.63331324 0.51979489]\n",
            " [0.44822088 0.54610814 0.63331324 ... 0.63331324 0.54610814 0.44822088]\n",
            " [0.36787944 0.44822088 0.51979489 ... 0.51979489 0.44822088 0.36787944]]\n"
          ]
        }
      ],
      "source": [
        "x,y=np.meshgrid(np.linspace(-1,1,10),np.linspace(-1,1,10))\n",
        "d=np.sqrt(x*x+y*y)\n",
        "sigma, mu=1.0,0.0\n",
        "g=np.exp(-((d-mu)**2 / (2.0 * sigma**2 )))\n",
        "print(g)"
      ]
    },
    {
      "cell_type": "markdown",
      "metadata": {
        "id": "YB8DHpT3fSNb"
      },
      "source": [
        "#### 57. How to randomly place p elements in a 2D array? (★★☆) \n",
        "(**hint**: np.put, np.random.choice)"
      ]
    },
    {
      "cell_type": "code",
      "execution_count": 79,
      "metadata": {
        "id": "USnrt_tQfSNc",
        "colab": {
          "base_uri": "https://localhost:8080/"
        },
        "outputId": "5b1e20a1-9429-4773-e24c-83865d2703ab"
      },
      "outputs": [
        {
          "output_type": "stream",
          "name": "stdout",
          "text": [
            "[[0. 0. 0. ... 0. 0. 0.]\n",
            " [0. 0. 0. ... 0. 0. 0.]\n",
            " [0. 0. 0. ... 0. 0. 0.]\n",
            " ...\n",
            " [0. 0. 0. ... 1. 0. 0.]\n",
            " [0. 0. 0. ... 0. 0. 0.]\n",
            " [0. 0. 0. ... 0. 0. 0.]]\n"
          ]
        }
      ],
      "source": [
        "n=10\n",
        "p=3\n",
        "z=np.zeros((n,n))\n",
        "np.put(z,np.random.choice(range(n*n), p, replace=False),1)\n",
        "print(z)"
      ]
    },
    {
      "cell_type": "markdown",
      "metadata": {
        "id": "hd2lb5cnfSNc"
      },
      "source": [
        "#### 58. Subtract the mean of each row of a matrix (★★☆) \n",
        "(**hint**: mean(axis=,keepdims=))"
      ]
    },
    {
      "cell_type": "code",
      "execution_count": 80,
      "metadata": {
        "id": "w56mI914fSNc",
        "colab": {
          "base_uri": "https://localhost:8080/"
        },
        "outputId": "ea6f5727-e4c2-43a5-fd88-2fa1ca420ecf"
      },
      "outputs": [
        {
          "output_type": "stream",
          "name": "stdout",
          "text": [
            "[[-0.16203177  0.45126613 -0.27880607 ... -0.01452501 -0.15055828\n",
            "   0.43526284]\n",
            " [-0.34864758 -0.29292694 -0.27439435 ...  0.48772833 -0.03100731\n",
            "   0.18750436]\n",
            " [-0.05501596 -0.63897828 -0.02045569 ...  0.23100879  0.13663334\n",
            "   0.1298232 ]\n",
            " [-0.22047936 -0.3682854  -0.46830905 ...  0.38939095 -0.44317353\n",
            "   0.50040794]\n",
            " [ 0.18371091  0.38166957 -0.22071402 ... -0.51747127 -0.28193557\n",
            "   0.24717354]]\n"
          ]
        }
      ],
      "source": [
        "x=np.random.rand(5,10)\n",
        "\n",
        "#recent versions of numpy\n",
        "y=x-x.mean(axis=1, keepdims=True)\n",
        "\n",
        "#older versions of numpy\n",
        "y=x-x.mean(axis=1).reshape(-1,1)\n",
        "\n",
        "print(y)"
      ]
    },
    {
      "cell_type": "markdown",
      "metadata": {
        "id": "KlcO3F1gfSNc"
      },
      "source": [
        "#### 59. How to sort an array by the nth column? (★★☆) \n",
        "(**hint**: argsort)"
      ]
    },
    {
      "cell_type": "code",
      "execution_count": 81,
      "metadata": {
        "id": "zC7Qx1hBfSNd",
        "colab": {
          "base_uri": "https://localhost:8080/"
        },
        "outputId": "3f787301-e04f-4539-c7bd-4a36d5eb6fcb"
      },
      "outputs": [
        {
          "output_type": "stream",
          "name": "stdout",
          "text": [
            "[[1 9 2]\n",
            " [3 9 1]\n",
            " [8 2 5]]\n",
            "[[8 2 5]\n",
            " [1 9 2]\n",
            " [3 9 1]]\n"
          ]
        }
      ],
      "source": [
        "x=np.random.randint(0,10,(3,3))\n",
        "print(x)\n",
        "print(x[x[:,1].argsort()])"
      ]
    },
    {
      "cell_type": "markdown",
      "metadata": {
        "id": "FtlcJWaOfSNd"
      },
      "source": [
        "#### 60. How to tell if a given 2D array has null columns? (★★☆) \n",
        "(**hint**: any, ~)"
      ]
    },
    {
      "cell_type": "code",
      "execution_count": 82,
      "metadata": {
        "id": "_zpky48zfSNd",
        "colab": {
          "base_uri": "https://localhost:8080/"
        },
        "outputId": "a629064a-d217-4399-daa5-c966af54a6b3"
      },
      "outputs": [
        {
          "output_type": "stream",
          "name": "stdout",
          "text": [
            "False\n"
          ]
        }
      ],
      "source": [
        "z=np.random.randint(0,3,(3,10))\n",
        "print((~z.any(axis=0)).any())"
      ]
    },
    {
      "cell_type": "markdown",
      "metadata": {
        "id": "cOGUpJVMfSNe"
      },
      "source": [
        "#### 61. Find the nearest value from a given value in an array (★★☆) \n",
        "(**hint**: np.abs, argmin, flat)"
      ]
    },
    {
      "cell_type": "code",
      "execution_count": 83,
      "metadata": {
        "id": "ScjX7XgmfSNe",
        "colab": {
          "base_uri": "https://localhost:8080/"
        },
        "outputId": "3ac56335-cb18-4a87-8e94-396e61933f62"
      },
      "outputs": [
        {
          "output_type": "stream",
          "name": "stdout",
          "text": [
            "0.43979842753504517\n"
          ]
        }
      ],
      "source": [
        "X=np.random.uniform(0,1,10)\n",
        "x=0.5\n",
        "m=X.flat[np.abs(X-x).argmin()]\n",
        "print(m)"
      ]
    },
    {
      "cell_type": "markdown",
      "metadata": {
        "id": "MKZDHk59fSNe"
      },
      "source": [
        "#### 62. Considering two arrays with shape (1,3) and (3,1), how to compute their sum using an iterator? (★★☆) \n",
        "(**hint**: np.nditer)"
      ]
    },
    {
      "cell_type": "code",
      "execution_count": 84,
      "metadata": {
        "id": "7Ci0J4iZfSNe",
        "colab": {
          "base_uri": "https://localhost:8080/"
        },
        "outputId": "9ebc667a-077b-4dbd-d5ce-a408bb34d774"
      },
      "outputs": [
        {
          "output_type": "stream",
          "name": "stdout",
          "text": [
            "[[0 1 2]\n",
            " [1 2 3]\n",
            " [2 3 4]]\n"
          ]
        }
      ],
      "source": [
        "a=np.arange(3).reshape(3,1)\n",
        "b=np.arange(3).reshape(1,3)\n",
        "it=np.nditer([a,b,None])\n",
        "for x,y,z in it: z[...] = x+y\n",
        "print(it.operands[2])"
      ]
    },
    {
      "cell_type": "markdown",
      "metadata": {
        "id": "0C6aEq4GfSNf"
      },
      "source": [
        "#### 63. Create an array class that has a name attribute (★★☆) \n",
        "(**hint**: class method)"
      ]
    },
    {
      "cell_type": "code",
      "execution_count": 85,
      "metadata": {
        "id": "FCy9NkyJfSNf",
        "colab": {
          "base_uri": "https://localhost:8080/"
        },
        "outputId": "2a335f27-cdcd-4d60-f616-cf57db50dfc7"
      },
      "outputs": [
        {
          "output_type": "stream",
          "name": "stdout",
          "text": [
            "range_10\n"
          ]
        }
      ],
      "source": [
        "class NameArray(np.ndarray):\n",
        "  def __new__(cls, array, name=\"no name\"):\n",
        "    obj = np.asarray(array).view(cls)\n",
        "    obj.name = name\n",
        "    return obj\n",
        "  def __array_finalize__(self, obj):\n",
        "    if obj is None: return\n",
        "    self.info = getattr(obj, 'name', \"no name\")\n",
        "\n",
        "x=NameArray(np.arange(10), \"range_10\")\n",
        "print(x.name)"
      ]
    },
    {
      "cell_type": "markdown",
      "metadata": {
        "id": "Ks3fiN45fSNf"
      },
      "source": [
        "#### 64. Consider a given vector, how to add 1 to each element indexed by a second vector (be careful with repeated indices)? (★★★) \n",
        "(**hint**: np.bincount | np.add.at)"
      ]
    },
    {
      "cell_type": "code",
      "execution_count": 86,
      "metadata": {
        "id": "tXAX0qPmfSNg",
        "colab": {
          "base_uri": "https://localhost:8080/"
        },
        "outputId": "df09ffa0-d319-444e-adb6-04a2f4b3f792"
      },
      "outputs": [
        {
          "output_type": "stream",
          "name": "stdout",
          "text": [
            "[2. 4. 3. ... 2. 2. 4.]\n",
            "[3. 7. 5. ... 3. 3. 7.]\n"
          ]
        }
      ],
      "source": [
        "z=np.ones(10)\n",
        "i=np.random.randint(0,len(z),20)\n",
        "z += np.bincount(i, minlength=len(z))\n",
        "print(z)\n",
        "\n",
        "#another solution\n",
        "np.add.at(z,i,1)\n",
        "print(z)"
      ]
    },
    {
      "cell_type": "markdown",
      "metadata": {
        "id": "IneQ_to3fSNg"
      },
      "source": [
        "#### 65. How to accumulate elements of a vector (X) to an array (F) based on an index list (I)? (★★★) \n",
        "(**hint**: np.bincount)"
      ]
    },
    {
      "cell_type": "code",
      "execution_count": 87,
      "metadata": {
        "id": "LHqrTKnOfSNg",
        "colab": {
          "base_uri": "https://localhost:8080/"
        },
        "outputId": "b6ad6828-1d8a-47dd-a181-64ea8882d09f"
      },
      "outputs": [
        {
          "output_type": "stream",
          "name": "stdout",
          "text": [
            "[0. 7. 0. ... 0. 0. 3.]\n"
          ]
        }
      ],
      "source": [
        "x=[1,2,3,4,5,6]\n",
        "i=[1,3,9,3,4,1]\n",
        "F=np.bincount(i,x)\n",
        "print(F)"
      ]
    },
    {
      "cell_type": "markdown",
      "metadata": {
        "id": "pxuK6i62fSNh"
      },
      "source": [
        "#### 66. Considering a (w,h,3) image of (dtype=ubyte), compute the number of unique colors (★★★) \n",
        "(**hint**: np.unique)"
      ]
    },
    {
      "cell_type": "code",
      "execution_count": 88,
      "metadata": {
        "id": "YqPF2FtnfSNh",
        "colab": {
          "base_uri": "https://localhost:8080/"
        },
        "outputId": "1fe674ef-1f6f-4487-8a00-c400003cd127"
      },
      "outputs": [
        {
          "output_type": "stream",
          "name": "stdout",
          "text": [
            "64\n"
          ]
        }
      ],
      "source": [
        "w, h=256, 256\n",
        "I=np.random.randint(0,4,(h,w,3)).astype(np.ubyte)\n",
        "colors=np.unique(I.reshape(-1,3),axis=0)\n",
        "n=len(colors)\n",
        "print(n)"
      ]
    },
    {
      "cell_type": "markdown",
      "metadata": {
        "id": "6KOKzgpcfSNi"
      },
      "source": [
        "#### 67. Considering a four dimensions array, how to get sum over the last two axis at once? (★★★) \n",
        "(**hint**: sum(axis=(-2,-1)))"
      ]
    },
    {
      "cell_type": "code",
      "execution_count": 89,
      "metadata": {
        "id": "um0haIX3fSNi",
        "colab": {
          "base_uri": "https://localhost:8080/"
        },
        "outputId": "3429d245-5f0b-459b-a079-8413b3db91d3"
      },
      "outputs": [
        {
          "output_type": "stream",
          "name": "stdout",
          "text": [
            "[[57 47 55 42]\n",
            " [43 50 58 68]\n",
            " [49 55 69 51]]\n",
            "[[57 47 55 42]\n",
            " [43 50 58 68]\n",
            " [49 55 69 51]]\n"
          ]
        }
      ],
      "source": [
        "a=np.random.randint(0,10,(3,4,3,4))\n",
        "#tuple of axes\n",
        "sum=a.sum(axis=(-2,-1))\n",
        "print(sum)\n",
        "#solution by flattering the last two dimensions into one\n",
        "sum=a.reshape(a.shape[:-2] + (-1,)).sum(axis=-1)\n",
        "print(sum)"
      ]
    },
    {
      "cell_type": "markdown",
      "metadata": {
        "id": "qBuxGmnAfSNj"
      },
      "source": [
        "#### 68. Considering a one-dimensional vector D, how to compute means of subsets of D using a vector S of same size describing subset  indices? (★★★) \n",
        "(**hint**: np.bincount)"
      ]
    },
    {
      "cell_type": "code",
      "execution_count": 90,
      "metadata": {
        "id": "PDqEIgWxfSNq",
        "colab": {
          "base_uri": "https://localhost:8080/"
        },
        "outputId": "dda89a8f-1a0b-42d8-9208-488a7bcf2229"
      },
      "outputs": [
        {
          "output_type": "stream",
          "name": "stdout",
          "text": [
            "[0.44972036 0.67772671 0.5360299  ... 0.58320001 0.37902994 0.63342238]\n"
          ]
        }
      ],
      "source": [
        "d = np.random.uniform(0,1,100)\n",
        "s = np.random.randint(0,10,100)\n",
        "d_sums = np.bincount(s,weights=d)\n",
        "d_counts = np.bincount(s)\n",
        "d_means = d_sums / d_counts\n",
        "print(d_means)"
      ]
    },
    {
      "cell_type": "markdown",
      "metadata": {
        "id": "ozjwK6c9fSNq"
      },
      "source": [
        "#### 69. How to get the diagonal of a dot product? (★★★) \n",
        "(**hint**: np.diag)"
      ]
    },
    {
      "cell_type": "code",
      "execution_count": 91,
      "metadata": {
        "id": "w0uWyH1zfSNq",
        "colab": {
          "base_uri": "https://localhost:8080/"
        },
        "outputId": "05a159fd-b1da-4dd5-bb45-8ce04b821e44"
      },
      "outputs": [
        {
          "output_type": "execute_result",
          "data": {
            "text/plain": [
              "5.121682435911616"
            ]
          },
          "metadata": {},
          "execution_count": 91
        }
      ],
      "source": [
        "a=np.random.uniform(0,1,(5,5))\n",
        "b=np.random.uniform(0,1,(5,5))\n",
        "\n",
        "#slow version\n",
        "np.diag(np.dot(a,b))\n",
        "#fast version\n",
        "np.sum(a*b.T, axis=1)\n",
        "#faster version\n",
        "np.einsum(\"ij,ji->\", a, b)"
      ]
    },
    {
      "cell_type": "markdown",
      "metadata": {
        "id": "48NZ_VEqfSNr"
      },
      "source": [
        "#### 70. Consider the vector \\[1, 2, 3, 4, 5\\], how to build a new vector with 3 consecutive zeros interleaved between each value? (★★★) \n",
        "(**hint**: array\\[::4\\])"
      ]
    },
    {
      "cell_type": "code",
      "execution_count": 92,
      "metadata": {
        "id": "Vk-MbEykfSNr",
        "colab": {
          "base_uri": "https://localhost:8080/"
        },
        "outputId": "cfed23e5-c010-441a-cb9b-f935b68dc51a"
      },
      "outputs": [
        {
          "output_type": "stream",
          "name": "stdout",
          "text": [
            "[1. 0. 0. ... 0. 0. 5.]\n"
          ]
        }
      ],
      "source": [
        "z=np.array([1,2,3,4,5])\n",
        "nz=3\n",
        "x=np.zeros(len(z)+(len(z)-1)*(nz))\n",
        "x[::nz+1]=z\n",
        "print(x)"
      ]
    },
    {
      "cell_type": "markdown",
      "metadata": {
        "id": "O9f4kkbPfSNr"
      },
      "source": [
        "#### 71. Consider an array of dimension (5,5,3), how to mulitply it by an array with dimensions (5,5)? (★★★) \n",
        "(**hint**: array\\[:, :, None\\])"
      ]
    },
    {
      "cell_type": "code",
      "execution_count": 93,
      "metadata": {
        "collapsed": true,
        "id": "zNgN7OMxfSNr",
        "colab": {
          "base_uri": "https://localhost:8080/"
        },
        "outputId": "f5cba866-a622-4698-9894-4d85d396e48a"
      },
      "outputs": [
        {
          "output_type": "stream",
          "name": "stdout",
          "text": [
            "[[[2. 2. 2.]\n",
            "  [2. 2. 2.]\n",
            "  [2. 2. 2.]\n",
            "  [2. 2. 2.]\n",
            "  [2. 2. 2.]]\n",
            "\n",
            " [[2. 2. 2.]\n",
            "  [2. 2. 2.]\n",
            "  [2. 2. 2.]\n",
            "  [2. 2. 2.]\n",
            "  [2. 2. 2.]]\n",
            "\n",
            " [[2. 2. 2.]\n",
            "  [2. 2. 2.]\n",
            "  [2. 2. 2.]\n",
            "  [2. 2. 2.]\n",
            "  [2. 2. 2.]]\n",
            "\n",
            " [[2. 2. 2.]\n",
            "  [2. 2. 2.]\n",
            "  [2. 2. 2.]\n",
            "  [2. 2. 2.]\n",
            "  [2. 2. 2.]]\n",
            "\n",
            " [[2. 2. 2.]\n",
            "  [2. 2. 2.]\n",
            "  [2. 2. 2.]\n",
            "  [2. 2. 2.]\n",
            "  [2. 2. 2.]]]\n"
          ]
        }
      ],
      "source": [
        "a=np.ones((5,5,3))\n",
        "b=2*np.ones((5,5))\n",
        "print(a * b[:,:,None])"
      ]
    },
    {
      "cell_type": "markdown",
      "metadata": {
        "id": "6TeRUjBWfSNs"
      },
      "source": [
        "#### 72. How to swap two rows of an array? (★★★) \n",
        "(**hint**: array\\[\\[\\]\\] = array\\[\\[\\]\\])"
      ]
    },
    {
      "cell_type": "code",
      "execution_count": 94,
      "metadata": {
        "id": "XDknc9NcfSNs",
        "colab": {
          "base_uri": "https://localhost:8080/"
        },
        "outputId": "dc9cd8e3-11c8-4822-832b-bfe094842648"
      },
      "outputs": [
        {
          "output_type": "stream",
          "name": "stdout",
          "text": [
            "[[ 5  6  7  8  9]\n",
            " [ 0  1  2  3  4]\n",
            " [10 11 12 13 14]\n",
            " [15 16 17 18 19]\n",
            " [20 21 22 23 24]]\n"
          ]
        }
      ],
      "source": [
        "a=np.arange(25).reshape(5,5)\n",
        "a[[0,1]]=a[[1,0]]\n",
        "print(a)"
      ]
    },
    {
      "cell_type": "markdown",
      "metadata": {
        "id": "NZnfV9jGfSNt"
      },
      "source": [
        "#### 73. Consider a set of 10 triplets describing 10 triangles (with shared vertices), find the set of unique line segments composing all the  triangles (★★★) \n",
        "(**hint**: repeat, np.roll, np.sort, view, np.unique)"
      ]
    },
    {
      "cell_type": "code",
      "execution_count": 95,
      "metadata": {
        "id": "Y3ix1rmsfSNt",
        "colab": {
          "base_uri": "https://localhost:8080/"
        },
        "outputId": "2098e17e-a106-4715-ba8e-be8be9ea691e"
      },
      "outputs": [
        {
          "output_type": "stream",
          "name": "stdout",
          "text": [
            "[( 3, 29) ( 3, 87) ( 4,  5) ... (66, 73) (69, 86) (93, 96)]\n"
          ]
        }
      ],
      "source": [
        "faces=np.random.randint(0,100,(10,3))\n",
        "F=np.roll(faces.repeat(2,axis=1),-1,axis=1)\n",
        "F=F.reshape(len(F)*3,2)\n",
        "F=np.sort(F,axis=1)\n",
        "G=F.view(dtype=[('p0',F.dtype),('p1',F.dtype)])\n",
        "G=np.unique(G)\n",
        "print(G)"
      ]
    },
    {
      "cell_type": "markdown",
      "metadata": {
        "id": "5_xzep1PfSNu"
      },
      "source": [
        "#### 74. Given an array C that is a bincount, how to produce an array A such that np.bincount(A) == C? (★★★) \n",
        "(**hint**: np.repeat)"
      ]
    },
    {
      "cell_type": "code",
      "execution_count": 96,
      "metadata": {
        "id": "visKpK6YfSNu",
        "colab": {
          "base_uri": "https://localhost:8080/"
        },
        "outputId": "b242c7c7-f9aa-48fc-eadf-1ee12d9648a1"
      },
      "outputs": [
        {
          "output_type": "stream",
          "name": "stdout",
          "text": [
            "[1 1 2 ... 4 4 6]\n"
          ]
        }
      ],
      "source": [
        "c=np.bincount([1,1,2,3,4,4,6])\n",
        "a=np.repeat(np.arange(len(c)),c)\n",
        "print(a)\n"
      ]
    },
    {
      "cell_type": "markdown",
      "metadata": {
        "id": "a1-L8gLnfSNu"
      },
      "source": [
        "#### 75. How to compute averages using a sliding window over an array? (★★★) \n",
        "(**hint**: np.cumsum)"
      ]
    },
    {
      "cell_type": "code",
      "execution_count": 97,
      "metadata": {
        "id": "vCIkWzmHfSNv",
        "colab": {
          "base_uri": "https://localhost:8080/"
        },
        "outputId": "a4e10744-133b-4204-91cc-1c2c5c6f06ba"
      },
      "outputs": [
        {
          "output_type": "stream",
          "name": "stdout",
          "text": [
            "[ 1.  2.  3. ... 16. 17. 18.]\n"
          ]
        }
      ],
      "source": [
        "def moving_average(a, n=3):\n",
        "  ret=np.cumsum(a,dtype=float)\n",
        "  ret[n:]=ret[n:] - ret[:-n]\n",
        "  return ret[n-1:] / n\n",
        "z=np.arange(20)\n",
        "print(moving_average(z, n=3))"
      ]
    },
    {
      "cell_type": "markdown",
      "metadata": {
        "id": "Da76uPmMfSNv"
      },
      "source": [
        "#### 76. Consider a one-dimensional array Z, build a two-dimensional array whose first row is (Z\\[0\\],Z\\[1\\],Z\\[2\\]) and each subsequent row is  shifted by 1 (last row should be (Z\\[-3\\],Z\\[-2\\],Z\\[-1\\]) (★★★) \n",
        "(**hint**: from numpy.lib import stride_tricks)"
      ]
    },
    {
      "cell_type": "code",
      "execution_count": 98,
      "metadata": {
        "id": "3njxoyPsfSNv",
        "colab": {
          "base_uri": "https://localhost:8080/"
        },
        "outputId": "2b23a9ec-6270-414f-8e2a-6f3ac69bd2ce"
      },
      "outputs": [
        {
          "output_type": "stream",
          "name": "stdout",
          "text": [
            "[[0 1 2]\n",
            " [1 2 3]\n",
            " [2 3 4]\n",
            " ...\n",
            " [5 6 7]\n",
            " [6 7 8]\n",
            " [7 8 9]]\n"
          ]
        }
      ],
      "source": [
        "from numpy.lib import stride_tricks\n",
        "\n",
        "def rolling(a,window):\n",
        "  shape = (a.size - window + 1,window)\n",
        "  strides = (a.strides[0], a.strides[0])\n",
        "  return stride_tricks.as_strided(a, shape=shape, strides=strides)\n",
        "z=rolling(np.arange(10),3)\n",
        "print(z) \n"
      ]
    },
    {
      "cell_type": "markdown",
      "metadata": {
        "id": "MfFWscBZfSNw"
      },
      "source": [
        "#### 77. How to negate a boolean, or to change the sign of a float inplace? (★★★) \n",
        "(**hint**: np.logical_not, np.negative)"
      ]
    },
    {
      "cell_type": "code",
      "execution_count": 99,
      "metadata": {
        "id": "nhskH5ZufSNw",
        "colab": {
          "base_uri": "https://localhost:8080/"
        },
        "outputId": "9f6c7763-bbb9-4038-a180-cf9709fb3b9f"
      },
      "outputs": [
        {
          "output_type": "execute_result",
          "data": {
            "text/plain": [
              "array([ 0.76169833, -0.4363634 , -0.20416832, ...,  0.58802161,\n",
              "        0.94395267, -0.03921972])"
            ]
          },
          "metadata": {},
          "execution_count": 99
        }
      ],
      "source": [
        "z=np.random.randint(0,2,100)\n",
        "np.logical_not(z, out=z)\n",
        "\n",
        "z=np.random.uniform(-1.0,1.0,100)\n",
        "np.negative(z,out=z)"
      ]
    },
    {
      "cell_type": "markdown",
      "metadata": {
        "id": "mtDLVoinfSNw"
      },
      "source": [
        "#### 78. Consider 2 sets of points P0,P1 describing lines (2d) and a point p, how to compute distance from p to each line i  (P0\\[i\\],P1\\[i\\])? (★★★)"
      ]
    },
    {
      "cell_type": "code",
      "execution_count": 101,
      "metadata": {
        "id": "QoPaBl4GfSNx",
        "colab": {
          "base_uri": "https://localhost:8080/",
          "height": 321
        },
        "outputId": "1a6558ee-2cd4-4941-f31b-c870e9a7d8b7"
      },
      "outputs": [
        {
          "output_type": "error",
          "ename": "ValueError",
          "evalue": "ignored",
          "traceback": [
            "\u001b[0;31m---------------------------------------------------------------------------\u001b[0m",
            "\u001b[0;31mValueError\u001b[0m                                Traceback (most recent call last)",
            "\u001b[0;32m<ipython-input-101-66c0669ac0dc>\u001b[0m in \u001b[0;36m<module>\u001b[0;34m()\u001b[0m\n\u001b[1;32m      9\u001b[0m \u001b[0mP1\u001b[0m\u001b[0;34m=\u001b[0m\u001b[0mnp\u001b[0m\u001b[0;34m.\u001b[0m\u001b[0mrandom\u001b[0m\u001b[0;34m.\u001b[0m\u001b[0muniform\u001b[0m\u001b[0;34m(\u001b[0m\u001b[0;34m-\u001b[0m\u001b[0;36m10\u001b[0m\u001b[0;34m,\u001b[0m\u001b[0;36m10\u001b[0m\u001b[0;34m,\u001b[0m\u001b[0;34m(\u001b[0m\u001b[0;36m10\u001b[0m\u001b[0;34m,\u001b[0m\u001b[0;36m2\u001b[0m\u001b[0;34m)\u001b[0m\u001b[0;34m)\u001b[0m\u001b[0;34m\u001b[0m\u001b[0;34m\u001b[0m\u001b[0m\n\u001b[1;32m     10\u001b[0m \u001b[0mp\u001b[0m\u001b[0;34m=\u001b[0m\u001b[0mnp\u001b[0m\u001b[0;34m.\u001b[0m\u001b[0mrandom\u001b[0m\u001b[0;34m.\u001b[0m\u001b[0muniform\u001b[0m\u001b[0;34m(\u001b[0m\u001b[0;34m-\u001b[0m\u001b[0;36m10\u001b[0m\u001b[0;34m,\u001b[0m\u001b[0;36m10\u001b[0m\u001b[0;34m,\u001b[0m\u001b[0;34m(\u001b[0m\u001b[0;36m1\u001b[0m\u001b[0;34m,\u001b[0m\u001b[0;36m2\u001b[0m\u001b[0;34m)\u001b[0m\u001b[0;34m)\u001b[0m\u001b[0;34m\u001b[0m\u001b[0;34m\u001b[0m\u001b[0m\n\u001b[0;32m---> 11\u001b[0;31m \u001b[0mprint\u001b[0m\u001b[0;34m(\u001b[0m\u001b[0mdistance\u001b[0m\u001b[0;34m(\u001b[0m\u001b[0mP0\u001b[0m\u001b[0;34m,\u001b[0m \u001b[0mP1\u001b[0m\u001b[0;34m,\u001b[0m \u001b[0mp\u001b[0m\u001b[0;34m)\u001b[0m\u001b[0;34m)\u001b[0m\u001b[0;34m\u001b[0m\u001b[0;34m\u001b[0m\u001b[0m\n\u001b[0m",
            "\u001b[0;32m<ipython-input-101-66c0669ac0dc>\u001b[0m in \u001b[0;36mdistance\u001b[0;34m(P0, P1, p)\u001b[0m\n\u001b[1;32m      3\u001b[0m   \u001b[0mL\u001b[0m\u001b[0;34m=\u001b[0m\u001b[0;34m(\u001b[0m\u001b[0mT\u001b[0m\u001b[0;34m**\u001b[0m\u001b[0;36m2\u001b[0m\u001b[0;34m)\u001b[0m\u001b[0;34m.\u001b[0m\u001b[0msum\u001b[0m\u001b[0;34m(\u001b[0m\u001b[0maxis\u001b[0m\u001b[0;34m=\u001b[0m\u001b[0;36m1\u001b[0m\u001b[0;34m)\u001b[0m\u001b[0;34m\u001b[0m\u001b[0;34m\u001b[0m\u001b[0m\n\u001b[1;32m      4\u001b[0m   \u001b[0mU\u001b[0m \u001b[0;34m=\u001b[0m \u001b[0;34m-\u001b[0m\u001b[0;34m(\u001b[0m\u001b[0;34m(\u001b[0m\u001b[0mP0\u001b[0m\u001b[0;34m[\u001b[0m\u001b[0;34m:\u001b[0m\u001b[0;34m,\u001b[0m\u001b[0;36m0\u001b[0m\u001b[0;34m]\u001b[0m\u001b[0;34m-\u001b[0m\u001b[0mp\u001b[0m\u001b[0;34m[\u001b[0m\u001b[0;34m...\u001b[0m\u001b[0;34m,\u001b[0m\u001b[0;36m0\u001b[0m\u001b[0;34m]\u001b[0m\u001b[0;34m)\u001b[0m\u001b[0;34m*\u001b[0m\u001b[0mT\u001b[0m\u001b[0;34m[\u001b[0m\u001b[0;34m:\u001b[0m\u001b[0;34m,\u001b[0m\u001b[0;36m0\u001b[0m\u001b[0;34m]\u001b[0m\u001b[0;34m+\u001b[0m\u001b[0;34m(\u001b[0m\u001b[0mP0\u001b[0m\u001b[0;34m[\u001b[0m\u001b[0;34m:\u001b[0m\u001b[0;34m,\u001b[0m\u001b[0;36m1\u001b[0m\u001b[0;34m]\u001b[0m\u001b[0;34m-\u001b[0m\u001b[0mp\u001b[0m\u001b[0;34m[\u001b[0m\u001b[0;34m...\u001b[0m\u001b[0;34m,\u001b[0m\u001b[0;36m1\u001b[0m\u001b[0;34m]\u001b[0m\u001b[0;34m)\u001b[0m\u001b[0;34m*\u001b[0m\u001b[0mT\u001b[0m\u001b[0;34m[\u001b[0m\u001b[0;34m:\u001b[0m\u001b[0;34m,\u001b[0m\u001b[0;36m1\u001b[0m\u001b[0;34m]\u001b[0m\u001b[0;34m)\u001b[0m \u001b[0;34m/\u001b[0m \u001b[0mL\u001b[0m\u001b[0;34m\u001b[0m\u001b[0;34m\u001b[0m\u001b[0m\n\u001b[0;32m----> 5\u001b[0;31m   \u001b[0mD\u001b[0m \u001b[0;34m=\u001b[0m \u001b[0mP0\u001b[0m \u001b[0;34m+\u001b[0m\u001b[0;34m(\u001b[0m\u001b[0mU\u001b[0m\u001b[0;34m*\u001b[0m\u001b[0mT\u001b[0m\u001b[0;34m)\u001b[0m \u001b[0;34m-\u001b[0m \u001b[0mp\u001b[0m\u001b[0;34m\u001b[0m\u001b[0;34m\u001b[0m\u001b[0m\n\u001b[0m\u001b[1;32m      6\u001b[0m   \u001b[0;32mreturn\u001b[0m \u001b[0mnp\u001b[0m\u001b[0;34m.\u001b[0m\u001b[0msqrt\u001b[0m\u001b[0;34m(\u001b[0m\u001b[0;34m(\u001b[0m\u001b[0mD\u001b[0m\u001b[0;34m**\u001b[0m\u001b[0;36m2\u001b[0m\u001b[0;34m)\u001b[0m\u001b[0;34m.\u001b[0m\u001b[0msum\u001b[0m\u001b[0;34m(\u001b[0m\u001b[0maxis\u001b[0m\u001b[0;34m=\u001b[0m\u001b[0;36m1\u001b[0m\u001b[0;34m)\u001b[0m\u001b[0;34m)\u001b[0m\u001b[0;34m\u001b[0m\u001b[0;34m\u001b[0m\u001b[0m\n\u001b[1;32m      7\u001b[0m \u001b[0;34m\u001b[0m\u001b[0m\n",
            "\u001b[0;31mValueError\u001b[0m: operands could not be broadcast together with shapes (10,) (10,2) "
          ]
        }
      ],
      "source": [
        "def distance(P0, P1, p):\n",
        "  T=P1-P0\n",
        "  L=(T**2).sum(axis=1)\n",
        "  U = -((P0[:,0]-p[...,0])*T[:,0]+(P0[:,1]-p[...,1])*T[:,1]) / L\n",
        "  D = P0 +(U*T) - p\n",
        "  return np.sqrt((D**2).sum(axis=1))\n",
        "\n",
        "P0=np.random.uniform(-10,10,(10,2))\n",
        "P1=np.random.uniform(-10,10,(10,2))\n",
        "p=np.random.uniform(-10,10,(1,2))\n",
        "print(distance(P0, P1, p))"
      ]
    },
    {
      "cell_type": "markdown",
      "metadata": {
        "id": "2hiUyeqrfSNx"
      },
      "source": [
        "#### 79. Consider 2 sets of points P0,P1 describing lines (2d) and a set of points P, how to compute distance from each point j (P\\[j\\]) to each line i (P0\\[i\\],P1\\[i\\])? (★★★)"
      ]
    },
    {
      "cell_type": "code",
      "execution_count": 122,
      "metadata": {
        "id": "7CmlqctLfSNy",
        "colab": {
          "base_uri": "https://localhost:8080/",
          "height": 345
        },
        "outputId": "de187053-c5fd-4e27-9569-d69c1769f1b5"
      },
      "outputs": [
        {
          "output_type": "error",
          "ename": "ValueError",
          "evalue": "ignored",
          "traceback": [
            "\u001b[0;31m---------------------------------------------------------------------------\u001b[0m",
            "\u001b[0;31mValueError\u001b[0m                                Traceback (most recent call last)",
            "\u001b[0;32m<ipython-input-122-e5c2a95bf2e6>\u001b[0m in \u001b[0;36m<module>\u001b[0;34m()\u001b[0m\n\u001b[1;32m      2\u001b[0m \u001b[0mP1\u001b[0m\u001b[0;34m=\u001b[0m\u001b[0mnp\u001b[0m\u001b[0;34m.\u001b[0m\u001b[0mrandom\u001b[0m\u001b[0;34m.\u001b[0m\u001b[0muniform\u001b[0m\u001b[0;34m(\u001b[0m\u001b[0;34m-\u001b[0m\u001b[0;36m10\u001b[0m\u001b[0;34m,\u001b[0m\u001b[0;36m10\u001b[0m\u001b[0;34m,\u001b[0m\u001b[0;34m(\u001b[0m\u001b[0;36m10\u001b[0m\u001b[0;34m,\u001b[0m\u001b[0;36m2\u001b[0m\u001b[0;34m)\u001b[0m\u001b[0;34m)\u001b[0m\u001b[0;34m\u001b[0m\u001b[0;34m\u001b[0m\u001b[0m\n\u001b[1;32m      3\u001b[0m \u001b[0mp\u001b[0m\u001b[0;34m=\u001b[0m\u001b[0mnp\u001b[0m\u001b[0;34m.\u001b[0m\u001b[0mrandom\u001b[0m\u001b[0;34m.\u001b[0m\u001b[0muniform\u001b[0m\u001b[0;34m(\u001b[0m\u001b[0;34m-\u001b[0m\u001b[0;36m10\u001b[0m\u001b[0;34m,\u001b[0m\u001b[0;36m10\u001b[0m\u001b[0;34m,\u001b[0m\u001b[0;34m(\u001b[0m\u001b[0;36m1\u001b[0m\u001b[0;34m,\u001b[0m\u001b[0;36m2\u001b[0m\u001b[0;34m)\u001b[0m\u001b[0;34m)\u001b[0m\u001b[0;34m\u001b[0m\u001b[0;34m\u001b[0m\u001b[0m\n\u001b[0;32m----> 4\u001b[0;31m \u001b[0mprint\u001b[0m\u001b[0;34m(\u001b[0m\u001b[0mnp\u001b[0m\u001b[0;34m.\u001b[0m\u001b[0marray\u001b[0m\u001b[0;34m(\u001b[0m\u001b[0;34m[\u001b[0m\u001b[0mdistance\u001b[0m\u001b[0;34m(\u001b[0m\u001b[0mP0\u001b[0m\u001b[0;34m,\u001b[0m\u001b[0mP1\u001b[0m\u001b[0;34m,\u001b[0m\u001b[0mp_i\u001b[0m\u001b[0;34m)\u001b[0m \u001b[0;32mfor\u001b[0m \u001b[0mp_i\u001b[0m \u001b[0;32min\u001b[0m \u001b[0mp\u001b[0m\u001b[0;34m]\u001b[0m\u001b[0;34m)\u001b[0m\u001b[0;34m)\u001b[0m\u001b[0;34m\u001b[0m\u001b[0;34m\u001b[0m\u001b[0m\n\u001b[0m",
            "\u001b[0;32m<ipython-input-122-e5c2a95bf2e6>\u001b[0m in \u001b[0;36m<listcomp>\u001b[0;34m(.0)\u001b[0m\n\u001b[1;32m      2\u001b[0m \u001b[0mP1\u001b[0m\u001b[0;34m=\u001b[0m\u001b[0mnp\u001b[0m\u001b[0;34m.\u001b[0m\u001b[0mrandom\u001b[0m\u001b[0;34m.\u001b[0m\u001b[0muniform\u001b[0m\u001b[0;34m(\u001b[0m\u001b[0;34m-\u001b[0m\u001b[0;36m10\u001b[0m\u001b[0;34m,\u001b[0m\u001b[0;36m10\u001b[0m\u001b[0;34m,\u001b[0m\u001b[0;34m(\u001b[0m\u001b[0;36m10\u001b[0m\u001b[0;34m,\u001b[0m\u001b[0;36m2\u001b[0m\u001b[0;34m)\u001b[0m\u001b[0;34m)\u001b[0m\u001b[0;34m\u001b[0m\u001b[0;34m\u001b[0m\u001b[0m\n\u001b[1;32m      3\u001b[0m \u001b[0mp\u001b[0m\u001b[0;34m=\u001b[0m\u001b[0mnp\u001b[0m\u001b[0;34m.\u001b[0m\u001b[0mrandom\u001b[0m\u001b[0;34m.\u001b[0m\u001b[0muniform\u001b[0m\u001b[0;34m(\u001b[0m\u001b[0;34m-\u001b[0m\u001b[0;36m10\u001b[0m\u001b[0;34m,\u001b[0m\u001b[0;36m10\u001b[0m\u001b[0;34m,\u001b[0m\u001b[0;34m(\u001b[0m\u001b[0;36m1\u001b[0m\u001b[0;34m,\u001b[0m\u001b[0;36m2\u001b[0m\u001b[0;34m)\u001b[0m\u001b[0;34m)\u001b[0m\u001b[0;34m\u001b[0m\u001b[0;34m\u001b[0m\u001b[0m\n\u001b[0;32m----> 4\u001b[0;31m \u001b[0mprint\u001b[0m\u001b[0;34m(\u001b[0m\u001b[0mnp\u001b[0m\u001b[0;34m.\u001b[0m\u001b[0marray\u001b[0m\u001b[0;34m(\u001b[0m\u001b[0;34m[\u001b[0m\u001b[0mdistance\u001b[0m\u001b[0;34m(\u001b[0m\u001b[0mP0\u001b[0m\u001b[0;34m,\u001b[0m\u001b[0mP1\u001b[0m\u001b[0;34m,\u001b[0m\u001b[0mp_i\u001b[0m\u001b[0;34m)\u001b[0m \u001b[0;32mfor\u001b[0m \u001b[0mp_i\u001b[0m \u001b[0;32min\u001b[0m \u001b[0mp\u001b[0m\u001b[0;34m]\u001b[0m\u001b[0;34m)\u001b[0m\u001b[0;34m)\u001b[0m\u001b[0;34m\u001b[0m\u001b[0;34m\u001b[0m\u001b[0m\n\u001b[0m",
            "\u001b[0;32m<ipython-input-101-66c0669ac0dc>\u001b[0m in \u001b[0;36mdistance\u001b[0;34m(P0, P1, p)\u001b[0m\n\u001b[1;32m      3\u001b[0m   \u001b[0mL\u001b[0m\u001b[0;34m=\u001b[0m\u001b[0;34m(\u001b[0m\u001b[0mT\u001b[0m\u001b[0;34m**\u001b[0m\u001b[0;36m2\u001b[0m\u001b[0;34m)\u001b[0m\u001b[0;34m.\u001b[0m\u001b[0msum\u001b[0m\u001b[0;34m(\u001b[0m\u001b[0maxis\u001b[0m\u001b[0;34m=\u001b[0m\u001b[0;36m1\u001b[0m\u001b[0;34m)\u001b[0m\u001b[0;34m\u001b[0m\u001b[0;34m\u001b[0m\u001b[0m\n\u001b[1;32m      4\u001b[0m   \u001b[0mU\u001b[0m \u001b[0;34m=\u001b[0m \u001b[0;34m-\u001b[0m\u001b[0;34m(\u001b[0m\u001b[0;34m(\u001b[0m\u001b[0mP0\u001b[0m\u001b[0;34m[\u001b[0m\u001b[0;34m:\u001b[0m\u001b[0;34m,\u001b[0m\u001b[0;36m0\u001b[0m\u001b[0;34m]\u001b[0m\u001b[0;34m-\u001b[0m\u001b[0mp\u001b[0m\u001b[0;34m[\u001b[0m\u001b[0;34m...\u001b[0m\u001b[0;34m,\u001b[0m\u001b[0;36m0\u001b[0m\u001b[0;34m]\u001b[0m\u001b[0;34m)\u001b[0m\u001b[0;34m*\u001b[0m\u001b[0mT\u001b[0m\u001b[0;34m[\u001b[0m\u001b[0;34m:\u001b[0m\u001b[0;34m,\u001b[0m\u001b[0;36m0\u001b[0m\u001b[0;34m]\u001b[0m\u001b[0;34m+\u001b[0m\u001b[0;34m(\u001b[0m\u001b[0mP0\u001b[0m\u001b[0;34m[\u001b[0m\u001b[0;34m:\u001b[0m\u001b[0;34m,\u001b[0m\u001b[0;36m1\u001b[0m\u001b[0;34m]\u001b[0m\u001b[0;34m-\u001b[0m\u001b[0mp\u001b[0m\u001b[0;34m[\u001b[0m\u001b[0;34m...\u001b[0m\u001b[0;34m,\u001b[0m\u001b[0;36m1\u001b[0m\u001b[0;34m]\u001b[0m\u001b[0;34m)\u001b[0m\u001b[0;34m*\u001b[0m\u001b[0mT\u001b[0m\u001b[0;34m[\u001b[0m\u001b[0;34m:\u001b[0m\u001b[0;34m,\u001b[0m\u001b[0;36m1\u001b[0m\u001b[0;34m]\u001b[0m\u001b[0;34m)\u001b[0m \u001b[0;34m/\u001b[0m \u001b[0mL\u001b[0m\u001b[0;34m\u001b[0m\u001b[0;34m\u001b[0m\u001b[0m\n\u001b[0;32m----> 5\u001b[0;31m   \u001b[0mD\u001b[0m \u001b[0;34m=\u001b[0m \u001b[0mP0\u001b[0m \u001b[0;34m+\u001b[0m\u001b[0;34m(\u001b[0m\u001b[0mU\u001b[0m\u001b[0;34m*\u001b[0m\u001b[0mT\u001b[0m\u001b[0;34m)\u001b[0m \u001b[0;34m-\u001b[0m \u001b[0mp\u001b[0m\u001b[0;34m\u001b[0m\u001b[0;34m\u001b[0m\u001b[0m\n\u001b[0m\u001b[1;32m      6\u001b[0m   \u001b[0;32mreturn\u001b[0m \u001b[0mnp\u001b[0m\u001b[0;34m.\u001b[0m\u001b[0msqrt\u001b[0m\u001b[0;34m(\u001b[0m\u001b[0;34m(\u001b[0m\u001b[0mD\u001b[0m\u001b[0;34m**\u001b[0m\u001b[0;36m2\u001b[0m\u001b[0;34m)\u001b[0m\u001b[0;34m.\u001b[0m\u001b[0msum\u001b[0m\u001b[0;34m(\u001b[0m\u001b[0maxis\u001b[0m\u001b[0;34m=\u001b[0m\u001b[0;36m1\u001b[0m\u001b[0;34m)\u001b[0m\u001b[0;34m)\u001b[0m\u001b[0;34m\u001b[0m\u001b[0;34m\u001b[0m\u001b[0m\n\u001b[1;32m      7\u001b[0m \u001b[0;34m\u001b[0m\u001b[0m\n",
            "\u001b[0;31mValueError\u001b[0m: operands could not be broadcast together with shapes (10,) (10,2) "
          ]
        }
      ],
      "source": [
        "P0=np.random.uniform(-10,10,(10,2))\n",
        "P1=np.random.uniform(-10,10,(10,2))\n",
        "p=np.random.uniform(-10,10,(1,2))\n",
        "print(np.array([distance(P0,P1,p_i) for p_i in p]))"
      ]
    },
    {
      "cell_type": "markdown",
      "metadata": {
        "id": "_dkQ08QdfSNy"
      },
      "source": [
        "#### 80. Consider an arbitrary array, write a function that extract a subpart with a fixed shape and centered on a given element (pad with a `fill` value when necessary) (★★★) \n",
        "(**hint**: minimum, maximum)"
      ]
    },
    {
      "cell_type": "code",
      "execution_count": 22,
      "metadata": {
        "id": "4oQwjj-0fSNy",
        "colab": {
          "base_uri": "https://localhost:8080/"
        },
        "outputId": "d5d14910-debe-4699-ebb7-dc1b91656392"
      },
      "outputs": [
        {
          "output_type": "stream",
          "name": "stdout",
          "text": [
            "[[9 1 1 ... 4 6 4]\n",
            " [6 9 5 ... 2 8 1]\n",
            " [0 1 4 ... 3 8 4]\n",
            " ...\n",
            " [2 4 7 ... 8 2 2]\n",
            " [3 0 9 ... 4 7 5]\n",
            " [7 3 4 ... 4 9 9]]\n",
            "[[0 0 0 0 0]\n",
            " [0 9 1 1 2]\n",
            " [0 6 9 5 6]\n",
            " [0 0 1 4 5]\n",
            " [0 3 4 1 1]]\n"
          ]
        },
        {
          "output_type": "stream",
          "name": "stderr",
          "text": [
            "/usr/local/lib/python3.7/dist-packages/ipykernel_launcher.py:23: FutureWarning: Using a non-tuple sequence for multidimensional indexing is deprecated; use `arr[tuple(seq)]` instead of `arr[seq]`. In the future this will be interpreted as an array index, `arr[np.array(seq)]`, which will result either in an error or a different result.\n"
          ]
        }
      ],
      "source": [
        "Z=np.random.randint(0,10,(10,10))\n",
        "shape=(5,5)\n",
        "fill=0\n",
        "position=(1,1)\n",
        "\n",
        "R=np.ones(shape, dtype=Z.dtype)*fill\n",
        "P=np.array(list(position)).astype(int)\n",
        "Rs=np.array(list(R.shape)).astype(int)\n",
        "Zs=np.array(list(Z.shape)).astype(int)\n",
        "\n",
        "R_start=np.zeros((len(shape),)).astype(int)\n",
        "R_stop=np.array(list(shape)).astype(int)\n",
        "Z_start=(P-Rs//2)\n",
        "Z_stop=(P+Rs//2)+Rs%2\n",
        "\n",
        "R_start=(R_start - np.minimum(Z_start,0)).tolist()\n",
        "Z_start=(np.maximum(Z_start,0)).tolist()\n",
        "R_stop=np.maximum(R_start, (R_stop - np.maximum(Z_stop-Zs,0))).tolist()\n",
        "Z_stop=(np.minimum(Z_stop,Zs)).tolist()\n",
        "\n",
        "r=[slice(start,stop) for start,stop in zip(R_start,R_stop)]\n",
        "z=[slice(start,stop) for start,stop in zip(Z_start,Z_stop)]\n",
        "R[r]=Z[z]\n",
        "print(Z)\n",
        "print(R)\n"
      ]
    },
    {
      "cell_type": "markdown",
      "metadata": {
        "id": "4BIrhMOefSNz"
      },
      "source": [
        "#### 81. Consider an array Z = \\[1,2,3,4,5,6,7,8,9,10,11,12,13,14\\], how to generate an array R = \\[\\[1,2,3,4\\], \\[2,3,4,5\\], \\[3,4,5,6\\], ..., \\[11,12,13,14\\]\\]? (★★★) \n",
        "(**hint**: stride\\_tricks.as\\_strided)"
      ]
    },
    {
      "cell_type": "code",
      "execution_count": 102,
      "metadata": {
        "id": "w-JkVoZGfSNz",
        "colab": {
          "base_uri": "https://localhost:8080/"
        },
        "outputId": "7a1135c3-21a2-4962-ef8d-2723f946e0ac"
      },
      "outputs": [
        {
          "output_type": "stream",
          "name": "stdout",
          "text": [
            "[[ 1  2  3  4]\n",
            " [ 2  3  4  5]\n",
            " [ 3  4  5  6]\n",
            " ...\n",
            " [ 9 10 11 12]\n",
            " [10 11 12 13]\n",
            " [11 12 13 14]]\n"
          ]
        }
      ],
      "source": [
        "from numpy.lib.stride_tricks import sliding_window_view\n",
        "z=np.arange(1,15,dtype=np.uint32)\n",
        "r=stride_tricks.as_strided(z,(11,4),(4,4))\n",
        "print(r)"
      ]
    },
    {
      "cell_type": "markdown",
      "metadata": {
        "id": "GXPUuu6zfSNz"
      },
      "source": [
        "#### 82. Compute a matrix rank (★★★) \n",
        "(**hint**: np.linalg.svd) (suggestion: np.linalg.svd)"
      ]
    },
    {
      "cell_type": "code",
      "execution_count": 103,
      "metadata": {
        "id": "uXwhKgZrfSN0",
        "colab": {
          "base_uri": "https://localhost:8080/"
        },
        "outputId": "35b27888-a668-4b3a-b88a-b5f77c62ff9d"
      },
      "outputs": [
        {
          "output_type": "stream",
          "name": "stdout",
          "text": [
            "10\n"
          ]
        }
      ],
      "source": [
        "x=np.random.uniform(0,1,(10,10))\n",
        "u,s,v=np.linalg.svd(x)\n",
        "rank=np.sum(s > 1e-10)\n",
        "print(rank)"
      ]
    },
    {
      "cell_type": "markdown",
      "metadata": {
        "id": "bJ7urwqOfSN0"
      },
      "source": [
        "#### 83. How to find the most frequent value in an array? \n",
        "(**hint**: np.bincount, argmax)"
      ]
    },
    {
      "cell_type": "code",
      "execution_count": 104,
      "metadata": {
        "id": "82r9Ab08fSN1",
        "colab": {
          "base_uri": "https://localhost:8080/"
        },
        "outputId": "7740b415-28c4-428d-8b5a-524d2e00dd11"
      },
      "outputs": [
        {
          "output_type": "stream",
          "name": "stdout",
          "text": [
            "1\n"
          ]
        }
      ],
      "source": [
        "x=np.random.randint(0,10,50)\n",
        "print(np.bincount(z).argmax())"
      ]
    },
    {
      "cell_type": "markdown",
      "metadata": {
        "id": "O5dKXMjZfSN1"
      },
      "source": [
        "#### 84. Extract all the contiguous 3x3 blocks from a random 10x10 matrix (★★★) \n",
        "(**hint**: stride\\_tricks.as\\_strided)"
      ]
    },
    {
      "cell_type": "code",
      "execution_count": 105,
      "metadata": {
        "id": "_xQPWjTifSN2",
        "colab": {
          "base_uri": "https://localhost:8080/"
        },
        "outputId": "174c219d-0da4-4242-b5b4-6cdf557569a7"
      },
      "outputs": [
        {
          "output_type": "stream",
          "name": "stdout",
          "text": [
            "[[[[0 4 1]\n",
            "   [0 3 0]\n",
            "   [1 4 3]]\n",
            "\n",
            "  [[4 1 2]\n",
            "   [3 0 2]\n",
            "   [4 3 0]]\n",
            "\n",
            "  [[1 2 4]\n",
            "   [0 2 0]\n",
            "   [3 0 2]]\n",
            "\n",
            "  ...\n",
            "\n",
            "  [[4 3 4]\n",
            "   [2 4 2]\n",
            "   [4 0 0]]\n",
            "\n",
            "  [[3 4 1]\n",
            "   [4 2 1]\n",
            "   [0 0 2]]\n",
            "\n",
            "  [[4 1 4]\n",
            "   [2 1 2]\n",
            "   [0 2 4]]]\n",
            "\n",
            "\n",
            " [[[0 3 0]\n",
            "   [1 4 3]\n",
            "   [1 4 3]]\n",
            "\n",
            "  [[3 0 2]\n",
            "   [4 3 0]\n",
            "   [4 3 1]]\n",
            "\n",
            "  [[0 2 0]\n",
            "   [3 0 2]\n",
            "   [3 1 4]]\n",
            "\n",
            "  ...\n",
            "\n",
            "  [[2 4 2]\n",
            "   [4 0 0]\n",
            "   [4 0 4]]\n",
            "\n",
            "  [[4 2 1]\n",
            "   [0 0 2]\n",
            "   [0 4 1]]\n",
            "\n",
            "  [[2 1 2]\n",
            "   [0 2 4]\n",
            "   [4 1 1]]]\n",
            "\n",
            "\n",
            " [[[1 4 3]\n",
            "   [1 4 3]\n",
            "   [1 4 0]]\n",
            "\n",
            "  [[4 3 0]\n",
            "   [4 3 1]\n",
            "   [4 0 0]]\n",
            "\n",
            "  [[3 0 2]\n",
            "   [3 1 4]\n",
            "   [0 0 4]]\n",
            "\n",
            "  ...\n",
            "\n",
            "  [[4 0 0]\n",
            "   [4 0 4]\n",
            "   [0 3 4]]\n",
            "\n",
            "  [[0 0 2]\n",
            "   [0 4 1]\n",
            "   [3 4 0]]\n",
            "\n",
            "  [[0 2 4]\n",
            "   [4 1 1]\n",
            "   [4 0 4]]]\n",
            "\n",
            "\n",
            " ...\n",
            "\n",
            "\n",
            " [[[3 0 3]\n",
            "   [1 3 4]\n",
            "   [0 2 2]]\n",
            "\n",
            "  [[0 3 0]\n",
            "   [3 4 4]\n",
            "   [2 2 1]]\n",
            "\n",
            "  [[3 0 2]\n",
            "   [4 4 2]\n",
            "   [2 1 4]]\n",
            "\n",
            "  ...\n",
            "\n",
            "  [[2 3 1]\n",
            "   [4 4 0]\n",
            "   [3 2 3]]\n",
            "\n",
            "  [[3 1 4]\n",
            "   [4 0 2]\n",
            "   [2 3 2]]\n",
            "\n",
            "  [[1 4 4]\n",
            "   [0 2 2]\n",
            "   [3 2 0]]]\n",
            "\n",
            "\n",
            " [[[1 3 4]\n",
            "   [0 2 2]\n",
            "   [4 2 3]]\n",
            "\n",
            "  [[3 4 4]\n",
            "   [2 2 1]\n",
            "   [2 3 0]]\n",
            "\n",
            "  [[4 4 2]\n",
            "   [2 1 4]\n",
            "   [3 0 3]]\n",
            "\n",
            "  ...\n",
            "\n",
            "  [[4 4 0]\n",
            "   [3 2 3]\n",
            "   [4 0 4]]\n",
            "\n",
            "  [[4 0 2]\n",
            "   [2 3 2]\n",
            "   [0 4 0]]\n",
            "\n",
            "  [[0 2 2]\n",
            "   [3 2 0]\n",
            "   [4 0 4]]]\n",
            "\n",
            "\n",
            " [[[0 2 2]\n",
            "   [4 2 3]\n",
            "   [3 0 1]]\n",
            "\n",
            "  [[2 2 1]\n",
            "   [2 3 0]\n",
            "   [0 1 4]]\n",
            "\n",
            "  [[2 1 4]\n",
            "   [3 0 3]\n",
            "   [1 4 4]]\n",
            "\n",
            "  ...\n",
            "\n",
            "  [[3 2 3]\n",
            "   [4 0 4]\n",
            "   [3 2 0]]\n",
            "\n",
            "  [[2 3 2]\n",
            "   [0 4 0]\n",
            "   [2 0 3]]\n",
            "\n",
            "  [[3 2 0]\n",
            "   [4 0 4]\n",
            "   [0 3 4]]]]\n"
          ]
        }
      ],
      "source": [
        "z=np.random.randint(0,5,(10,10))\n",
        "n=3\n",
        "i=1+(z.shape[0]-3)\n",
        "j=1+(z.shape[1]-3)\n",
        "c=stride_tricks.as_strided(z,shape=(i,j,n,n),strides=z.strides + z.strides)\n",
        "print(c)"
      ]
    },
    {
      "cell_type": "markdown",
      "metadata": {
        "id": "MPIQmGIVfSN2"
      },
      "source": [
        "#### 85. Create a 2D array subclass such that Z\\[i,j\\] == Z\\[j,i\\] (★★★) \n",
        "(**hint**: class method)"
      ]
    },
    {
      "cell_type": "code",
      "execution_count": 106,
      "metadata": {
        "id": "qhNyN37EfSN3",
        "colab": {
          "base_uri": "https://localhost:8080/"
        },
        "outputId": "9e2f355f-8db5-4e53-db96-f8753f5952cb"
      },
      "outputs": [
        {
          "output_type": "stream",
          "name": "stdout",
          "text": [
            "[[ 4  6  4 15  3]\n",
            " [ 6  3  8  3 14]\n",
            " [ 4  8  5 42  0]\n",
            " [15  3 42  0 10]\n",
            " [ 3 14  0 10  8]]\n"
          ]
        }
      ],
      "source": [
        "class Symetric(np.ndarray):\n",
        "  def __setitem__(self, index, value):\n",
        "    i,j = index\n",
        "    super(Symetric, self).__setitem__((i,j), value)\n",
        "    super(Symetric, self).__setitem__((j,i), value)\n",
        "\n",
        "def symetric(z):\n",
        "  return np.asarray(z+z.T -np.diag(z.diagonal())).view(Symetric)\n",
        "\n",
        "s=symetric(np.random.randint(0,10,(5,5)))\n",
        "s[2,3]=42\n",
        "print(s)"
      ]
    },
    {
      "cell_type": "markdown",
      "metadata": {
        "id": "t6Nc2NVhfSN3"
      },
      "source": [
        "#### 86. Consider a set of p matrices wich shape (n,n) and a set of p vectors with shape (n,1). How to compute the sum of of the p matrix products at once? (result has shape (n,1)) (★★★) \n",
        "(**hint**: np.tensordot)"
      ]
    },
    {
      "cell_type": "code",
      "execution_count": 107,
      "metadata": {
        "id": "KATidY5JfSN4",
        "colab": {
          "base_uri": "https://localhost:8080/"
        },
        "outputId": "f96ff686-b373-4950-94c9-b921dc6559e9"
      },
      "outputs": [
        {
          "output_type": "stream",
          "name": "stdout",
          "text": [
            "[[200.]\n",
            " [200.]\n",
            " [200.]\n",
            " ...\n",
            " [200.]\n",
            " [200.]\n",
            " [200.]]\n"
          ]
        }
      ],
      "source": [
        "p, n=10,20\n",
        "m=np.ones((p,n,n))\n",
        "v=np.ones((p,n,1))\n",
        "s=np.tensordot(m, v,axes=[[0,2],[0,1]])\n",
        "print(s)"
      ]
    },
    {
      "cell_type": "markdown",
      "metadata": {
        "id": "efmln75JfSN4"
      },
      "source": [
        "#### 87. Consider a 16x16 array, how to get the block-sum (block size is 4x4)? (★★★) \n",
        "(**hint**: np.add.reduceat)"
      ]
    },
    {
      "cell_type": "code",
      "execution_count": 108,
      "metadata": {
        "id": "mDkvK7vDfSN5",
        "colab": {
          "base_uri": "https://localhost:8080/"
        },
        "outputId": "c3d048f0-00e9-49ed-d6bd-9f791b53b9ba"
      },
      "outputs": [
        {
          "output_type": "stream",
          "name": "stdout",
          "text": [
            "[[16. 16. 16. 16.]\n",
            " [16. 16. 16. 16.]\n",
            " [16. 16. 16. 16.]\n",
            " [16. 16. 16. 16.]]\n"
          ]
        }
      ],
      "source": [
        "x=np.ones((16,16))\n",
        "k=4\n",
        "s=np.add.reduceat(np.add.reduceat(x, np.arange(0, x.shape[0], k), axis=0),\n",
        "                                     np.arange(0, x.shape[1], k), axis=1)\n",
        "print(s)"
      ]
    },
    {
      "cell_type": "markdown",
      "metadata": {
        "id": "vrOuKEJ2fSN5"
      },
      "source": [
        "\n",
        "#### 88. How to implement the Game of Life using numpy arrays? (★★★)"
      ]
    },
    {
      "cell_type": "code",
      "execution_count": 109,
      "metadata": {
        "id": "lqMDxqyqfSN6",
        "colab": {
          "base_uri": "https://localhost:8080/"
        },
        "outputId": "cbac5350-a005-429d-b054-9eca3c4c2b56"
      },
      "outputs": [
        {
          "output_type": "stream",
          "name": "stdout",
          "text": [
            "[[0 0 0 ... 0 0 0]\n",
            " [0 0 0 ... 0 0 0]\n",
            " [0 0 0 ... 0 0 0]\n",
            " ...\n",
            " [0 0 0 ... 0 0 0]\n",
            " [0 0 0 ... 0 0 0]\n",
            " [0 0 0 ... 0 0 0]]\n"
          ]
        }
      ],
      "source": [
        "def iterate(Z):\n",
        "  N=(Z[0:-2,0:-2] + Z[0:-2,1:-1] + Z[0:-2,2:]+\n",
        "     Z[1:-1,0:-2]                + Z[1:-1,2:]+\n",
        "     Z[2:  ,0:-2] + Z[2:  ,1:-1] + Z[2:  ,2:])\n",
        "  #RULES\n",
        "  birth=(N==3) & (Z[1:-1,1:-1]==0)\n",
        "  survive=((N==2) | (N==3)) & (Z[1:-1,1:-1]==1)\n",
        "  Z[...]=0\n",
        "  Z[1:-1,1:-1][birth | survive] = 1\n",
        "  return Z\n",
        "\n",
        "Z=np.random.randint(0,2,(50,50))\n",
        "for i in range(100): Z=iterate(Z)\n",
        "print(Z)"
      ]
    },
    {
      "cell_type": "markdown",
      "metadata": {
        "id": "KHG0aAjDfSN6"
      },
      "source": [
        "#### 89. How to get the n largest values of an array (★★★) \n",
        "(**hint**: np.argsort | np.argpartition)"
      ]
    },
    {
      "cell_type": "code",
      "execution_count": 110,
      "metadata": {
        "id": "hcA26AkDfSN7",
        "colab": {
          "base_uri": "https://localhost:8080/"
        },
        "outputId": "9d1f3d61-f1df-4a4f-cafd-217b178013ac"
      },
      "outputs": [
        {
          "output_type": "stream",
          "name": "stdout",
          "text": [
            "[9995 9996 9997 9998 9999]\n",
            "[9998 9999 9996 9997 9995]\n"
          ]
        }
      ],
      "source": [
        "x=np.arange(10000)\n",
        "np.random.shuffle(x)\n",
        "n=5\n",
        "\n",
        "#slow\n",
        "print(x[np.argsort(x)[-n:]])\n",
        "\n",
        "#fast\n",
        "print(x[np.argpartition(-x,n)[:n]])"
      ]
    },
    {
      "cell_type": "markdown",
      "metadata": {
        "id": "uotNfArkfSN7"
      },
      "source": [
        "#### 90. Given an arbitrary number of vectors, build the cartesian product (every combinations of every item) (★★★) \n",
        "(**hint**: np.indices)"
      ]
    },
    {
      "cell_type": "code",
      "execution_count": 111,
      "metadata": {
        "id": "d1XDf067fSN8",
        "scrolled": true,
        "colab": {
          "base_uri": "https://localhost:8080/"
        },
        "outputId": "5206098e-a7bc-4e7c-9447-5f2eb69ab0ff"
      },
      "outputs": [
        {
          "output_type": "stream",
          "name": "stdout",
          "text": [
            "[[1 4 6]\n",
            " [1 4 7]\n",
            " [1 5 6]\n",
            " ...\n",
            " [3 4 7]\n",
            " [3 5 6]\n",
            " [3 5 7]]\n"
          ]
        }
      ],
      "source": [
        "def cartesian(arrays):\n",
        "  arrays=[np.asarray(a) for a in arrays]\n",
        "  shape=(len(x) for x in arrays)\n",
        "\n",
        "  ix=np.indices(shape, dtype=int)\n",
        "  ix=ix.reshape(len(arrays), -1).T\n",
        "\n",
        "  for n, arr in enumerate(arrays):\n",
        "    ix[:, n]=arrays[n][ix[:,n]]\n",
        "\n",
        "  return ix\n",
        "print(cartesian(([1,2,3], [4,5], [6,7])))"
      ]
    },
    {
      "cell_type": "markdown",
      "metadata": {
        "id": "eCDWyDbqfSN8"
      },
      "source": [
        "#### 91. How to create a record array from a regular array? (★★★) \n",
        "(**hint**: np.core.records.fromarrays)"
      ]
    },
    {
      "cell_type": "code",
      "execution_count": 112,
      "metadata": {
        "id": "ALCAItBRfSN9",
        "colab": {
          "base_uri": "https://localhost:8080/"
        },
        "outputId": "9c9a713d-fe83-4daf-d556-a38ae226a728"
      },
      "outputs": [
        {
          "output_type": "stream",
          "name": "stdout",
          "text": [
            "[(b'Hello', 2.5, 3) (b'World', 3.6, 2)]\n"
          ]
        }
      ],
      "source": [
        "x=np.array([(\"Hello\", 2.5, 3),\n",
        "            (\"World\", 3.6, 2)])\n",
        "r=np.core.records.fromarrays(x.T,\n",
        "                             names = 'col1,col2,col3',\n",
        "                             formats='S8, f8, i8')\n",
        "print(r)"
      ]
    },
    {
      "cell_type": "markdown",
      "metadata": {
        "id": "EosQ44jTfSN9"
      },
      "source": [
        "#### 92. Consider a large vector Z, compute Z to the power of 3 using 3 different methods (★★★) \n",
        "(**hint**: np.power, \\*, np.einsum)"
      ]
    },
    {
      "cell_type": "code",
      "execution_count": 113,
      "metadata": {
        "id": "rrqTc1SjfSN9",
        "colab": {
          "base_uri": "https://localhost:8080/"
        },
        "outputId": "a673f80b-2631-49c5-9e36-a3d7aba45934"
      },
      "outputs": [
        {
          "output_type": "stream",
          "name": "stdout",
          "text": [
            "1 loop, best of 5: 3.73 s per loop\n",
            "10 loops, best of 5: 148 ms per loop\n",
            "10 loops, best of 5: 127 ms per loop\n"
          ]
        }
      ],
      "source": [
        "x= np.random.rand(int(5e7))\n",
        "\n",
        "%timeit np.power(x,3)\n",
        "%timeit x*x*x\n",
        "%timeit np.einsum('i,i,i->i',x,x,x)"
      ]
    },
    {
      "cell_type": "markdown",
      "metadata": {
        "id": "OxD6VsKhfSN-"
      },
      "source": [
        "#### 93. Consider two arrays A and B of shape (8,3) and (2,2). How to find rows of A that contain elements of each row of B regardless of the order of the elements in B? (★★★) \n",
        "(**hint**: np.where)"
      ]
    },
    {
      "cell_type": "code",
      "execution_count": 114,
      "metadata": {
        "id": "Vq17RHOkfSN-",
        "colab": {
          "base_uri": "https://localhost:8080/"
        },
        "outputId": "46469344-48ae-43cb-9a5c-ee2d4f29a025"
      },
      "outputs": [
        {
          "output_type": "stream",
          "name": "stdout",
          "text": [
            "[2 3 6]\n"
          ]
        }
      ],
      "source": [
        "a=np.random.randint(0,5,(8,3))\n",
        "b=np.random.randint(0,5,(2,2))\n",
        "\n",
        "c=(a[..., np.newaxis, np.newaxis] == b)\n",
        "rows=np.where(c.any((3,1)).all(1))[0]\n",
        "print(rows)"
      ]
    },
    {
      "cell_type": "markdown",
      "metadata": {
        "id": "QuDRJw6XfSN_"
      },
      "source": [
        "#### 94. Considering a 10x3 matrix, extract rows with unequal values (e.g. \\[2,2,3\\]) (★★★)"
      ]
    },
    {
      "cell_type": "code",
      "execution_count": 115,
      "metadata": {
        "id": "Qa7h8JJ7fSN_",
        "colab": {
          "base_uri": "https://localhost:8080/"
        },
        "outputId": "478b3fb9-655c-4f80-b213-1ad92ec7b1d6"
      },
      "outputs": [
        {
          "output_type": "stream",
          "name": "stdout",
          "text": [
            "[[2 0 4]\n",
            " [3 2 1]\n",
            " [1 4 3]\n",
            " ...\n",
            " [0 2 1]\n",
            " [3 1 2]\n",
            " [0 1 0]]\n",
            "[[2 0 4]\n",
            " [3 2 1]\n",
            " [1 4 3]\n",
            " ...\n",
            " [0 2 1]\n",
            " [3 1 2]\n",
            " [0 1 0]]\n"
          ]
        }
      ],
      "source": [
        "x=np.random.randint(0,5,(10,3))\n",
        "print(x)\n",
        "#solution for arrays of all dtypes(including string and record arrays)\n",
        "e=np.all(x[:,1:] == x[:,:-1], axis=1)\n",
        "u=x[~e]\n",
        "\n",
        "#solution for numerical arrays only\n",
        "u=x[x.max(axis=1) != x.min(axis=1),:]\n",
        "print(u)"
      ]
    },
    {
      "cell_type": "markdown",
      "metadata": {
        "id": "OTtC87K8fSN_"
      },
      "source": [
        "#### 95. Convert a vector of ints into a matrix binary representation (★★★) \n",
        "(**hint**: np.unpackbits)"
      ]
    },
    {
      "cell_type": "code",
      "execution_count": 116,
      "metadata": {
        "id": "sIdvB4nffSOA",
        "colab": {
          "base_uri": "https://localhost:8080/"
        },
        "outputId": "a2b9e65d-3e17-4bd9-b436-12fe8ac948ae"
      },
      "outputs": [
        {
          "output_type": "stream",
          "name": "stdout",
          "text": [
            "[[0 0 0 ... 0 0 0]\n",
            " [0 0 0 ... 0 0 1]\n",
            " [0 0 0 ... 0 1 0]\n",
            " ...\n",
            " [0 0 1 ... 0 0 0]\n",
            " [0 1 0 ... 0 0 0]\n",
            " [1 0 0 ... 0 0 0]]\n"
          ]
        }
      ],
      "source": [
        "x=np.array([0,1,2,3,15,16,32,64,128])\n",
        "y=((x.reshape(-1,1) & (2**np.arange(8))) !=0).astype(int)\n",
        "print(y[:,::-1])"
      ]
    },
    {
      "cell_type": "markdown",
      "metadata": {
        "id": "WEnFuUtKfSOA"
      },
      "source": [
        "#### 96. Given a two dimensional array, how to extract unique rows? (★★★) \n",
        "(**hint**: np.ascontiguousarray)"
      ]
    },
    {
      "cell_type": "code",
      "execution_count": 117,
      "metadata": {
        "id": "f2qLZIaQfSOB",
        "colab": {
          "base_uri": "https://localhost:8080/"
        },
        "outputId": "1c59d4b5-15a7-4b85-8812-a68ff7dd734f"
      },
      "outputs": [
        {
          "output_type": "stream",
          "name": "stdout",
          "text": [
            "[[0 0 0]\n",
            " [0 0 1]\n",
            " [0 1 1]\n",
            " [1 0 0]\n",
            " [1 1 1]]\n"
          ]
        }
      ],
      "source": [
        "x=np.random.randint(0,2,(6,3))\n",
        "T=np.ascontiguousarray(x).view(np.dtype((np.void,x.dtype.itemsize * x.shape[1])))\n",
        "_, idx=np.unique(T, return_index=True)\n",
        "ux=x[idx]\n",
        "print(ux)"
      ]
    },
    {
      "cell_type": "markdown",
      "metadata": {
        "id": "ciewzlVHfSOB"
      },
      "source": [
        "#### 97. Considering 2 vectors A & B, write the einsum equivalent of inner, outer, sum, and mul function (★★★) \n",
        "(**hint**: np.einsum)"
      ]
    },
    {
      "cell_type": "code",
      "execution_count": 118,
      "metadata": {
        "id": "VKYyc_uVfSOB",
        "colab": {
          "base_uri": "https://localhost:8080/"
        },
        "outputId": "16f83328-1a9a-446d-bec7-79695b232bf2"
      },
      "outputs": [
        {
          "output_type": "execute_result",
          "data": {
            "text/plain": [
              "array([[2.67901808e-02, 5.90403472e-01, 2.59007626e-01, ...,\n",
              "        5.46772130e-01, 4.29705806e-01, 5.61187439e-01],\n",
              "       [2.88141950e-02, 6.35008809e-01, 2.78575807e-01, ...,\n",
              "        5.88081092e-01, 4.62170337e-01, 6.03585487e-01],\n",
              "       [1.47493774e-04, 3.25047588e-03, 1.42597068e-03, ...,\n",
              "        3.01026282e-03, 2.36575227e-03, 3.08962653e-03],\n",
              "       ...,\n",
              "       [3.56533180e-02, 7.85729776e-01, 3.44696488e-01, ...,\n",
              "        7.27663646e-01, 5.71867650e-01, 7.46848048e-01],\n",
              "       [1.70471531e-02, 3.75686093e-01, 1.64811976e-01, ...,\n",
              "        3.47922557e-01, 2.73430803e-01, 3.57095319e-01],\n",
              "       [4.12801540e-02, 9.09734295e-01, 3.99096772e-01, ...,\n",
              "        8.42504121e-01, 6.62120273e-01, 8.64716221e-01]])"
            ]
          },
          "metadata": {},
          "execution_count": 118
        }
      ],
      "source": [
        "a=np.random.uniform(0,1,10)\n",
        "b=np.random.uniform(0,1,10)\n",
        "\n",
        "np.einsum('i->',a)#sum\n",
        "np.einsum('i,i->i', a, b)#a*b\n",
        "np.einsum('i,i', a, b)#inner\n",
        "np.einsum('i,j->ij', a, b)#outer"
      ]
    },
    {
      "cell_type": "markdown",
      "metadata": {
        "id": "0tc2fXJFfSOC"
      },
      "source": [
        "#### 98. Considering a path described by two vectors (X,Y), how to sample it using equidistant samples (★★★)? \n",
        "(**hint**: np.cumsum, np.interp)"
      ]
    },
    {
      "cell_type": "code",
      "execution_count": 119,
      "metadata": {
        "collapsed": true,
        "id": "pas7e377fSOC"
      },
      "outputs": [],
      "source": [
        "phi=np.arange(0, 10*np.pi, 0.1)\n",
        "a=1\n",
        "x=a*phi*np.cos(phi)\n",
        "y=a*phi*np.sin(phi)\n",
        "\n",
        "dr=(np.diff(x)**2 + np.diff(y)**2)**.5\n",
        "r=np.zeros_like(x)\n",
        "r[1:]=np.cumsum(dr)\n",
        "r_int=np.linspace(0, r.max(), 200)\n",
        "x_int=np.interp(r_int, r, x)\n",
        "y_int=np.interp(r_int, r, y)"
      ]
    },
    {
      "cell_type": "markdown",
      "metadata": {
        "id": "7K-js0RvfSOC"
      },
      "source": [
        "#### 99. Given an integer n and a 2D array X, select from X the rows which can be interpreted as draws from a multinomial distribution with n degrees, i.e., the rows which only contain integers and which sum to n. (★★★) \n",
        "(**hint**: np.logical\\_and.reduce, np.mod)"
      ]
    },
    {
      "cell_type": "code",
      "execution_count": 120,
      "metadata": {
        "id": "qaoIeMDNfSOC",
        "colab": {
          "base_uri": "https://localhost:8080/"
        },
        "outputId": "dd1628dd-f59e-4a62-8e79-d5815e36b03c"
      },
      "outputs": [
        {
          "output_type": "stream",
          "name": "stdout",
          "text": [
            "[[2. 0. 1. 1.]]\n"
          ]
        }
      ],
      "source": [
        "x=np.asarray([[1.0, 0.0, 3.0, 8.0],\n",
        "              [2.0, 0.0, 1.0, 1.0],\n",
        "              [1.5, 2.5, 1.0, 0.0]])\n",
        "n=4\n",
        "m=np.logical_and.reduce(np.mod(x, 1) == 0, axis=-1)\n",
        "m &= (x.sum(axis=-1) == n)\n",
        "print(x[m])"
      ]
    },
    {
      "cell_type": "markdown",
      "metadata": {
        "id": "qen30UhefSOD"
      },
      "source": [
        "#### 100. Compute bootstrapped 95% confidence intervals for the mean of a 1D array X (i.e., resample the elements of an array with replacement N times, compute the mean of each sample, and then compute percentiles over the means). (★★★) \n",
        "(**hint**: np.percentile)"
      ]
    },
    {
      "cell_type": "code",
      "execution_count": 121,
      "metadata": {
        "id": "Qt0PTopbfSOD",
        "colab": {
          "base_uri": "https://localhost:8080/"
        },
        "outputId": "3087b3c3-bdca-4fde-dcc9-d7ab56d3b294"
      },
      "outputs": [
        {
          "output_type": "stream",
          "name": "stdout",
          "text": [
            "[-0.32647887  0.07120272]\n"
          ]
        }
      ],
      "source": [
        "X=np.random.randn(100)\n",
        "n=1000\n",
        "idx=np.random.randint(0, X.size, (n, X.size))\n",
        "means=X[idx].mean(axis=1)\n",
        "confint=np.percentile(means, [2.5,97.5])\n",
        "print(confint)"
      ]
    }
  ],
  "metadata": {
    "colab": {
      "name": "AssignmentNumpy_tasks.ipynb",
      "provenance": [],
      "collapsed_sections": [],
      "include_colab_link": true
    },
    "kernelspec": {
      "display_name": "Python 3",
      "language": "python",
      "name": "python3"
    },
    "language_info": {
      "codemirror_mode": {
        "name": "ipython",
        "version": 3
      },
      "file_extension": ".py",
      "mimetype": "text/x-python",
      "name": "python",
      "nbconvert_exporter": "python",
      "pygments_lexer": "ipython3",
      "version": "3.8.3"
    }
  },
  "nbformat": 4,
  "nbformat_minor": 0
}